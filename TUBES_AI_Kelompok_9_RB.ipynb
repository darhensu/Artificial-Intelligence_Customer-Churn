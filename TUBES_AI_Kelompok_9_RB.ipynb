{
  "cells": [
    {
      "cell_type": "markdown",
      "source": [
        "## **PREDIKSI CUSTOMER CHURN MENGGUNAKAN ARTIFICIAL NEURAL NETWORK (ANN)**"
      ],
      "metadata": {
        "id": "_mCtgn0eiVVl"
      }
    },
    {
      "cell_type": "markdown",
      "source": [
        "# *Kelompok 9*\n",
        "\n",
        "* Masayu Franstika Oktaria - 120450016\n",
        "* Mochammad Aditya Putra Suhendar - 120450058\n",
        "* Adisya Ridia Nurahma - 120450056\n",
        "* Junpito Salim - 120450086\n"
      ],
      "metadata": {
        "id": "OI8uiMM3ifdU"
      }
    },
    {
      "cell_type": "markdown",
      "metadata": {
        "id": "zYBawP2QDtY1"
      },
      "source": [
        "# Import Library"
      ]
    },
    {
      "cell_type": "code",
      "execution_count": null,
      "metadata": {
        "id": "CmjU4LQRDtY4"
      },
      "outputs": [],
      "source": [
        "import pandas as pd\n",
        "from matplotlib import pyplot as plt\n",
        "import numpy as np\n",
        "%matplotlib inline\n",
        "import seaborn as sns"
      ]
    },
    {
      "cell_type": "markdown",
      "metadata": {
        "id": "BrEjBEfpDtY9"
      },
      "source": [
        "# EDA"
      ]
    },
    {
      "cell_type": "code",
      "execution_count": null,
      "metadata": {
        "id": "8VVCZleCDtY-",
        "colab": {
          "base_uri": "https://localhost:8080/",
          "height": 206
        },
        "outputId": "52ce4675-6f57-49d1-df27-3894ea9a9afe"
      },
      "outputs": [
        {
          "output_type": "execute_result",
          "data": {
            "text/plain": [
              "   Churn  AccountWeeks  ContractRenewal  DataPlan  DataUsage  CustServCalls  \\\n",
              "0      0           128                1         1        2.7              1   \n",
              "1      0           107                1         1        3.7              1   \n",
              "2      0           137                1         0        0.0              0   \n",
              "3      0            84                0         0        0.0              2   \n",
              "4      0            75                0         0        0.0              3   \n",
              "\n",
              "   DayMins  DayCalls  MonthlyCharge  OverageFee  RoamMins  \n",
              "0    265.1       110           89.0        9.87      10.0  \n",
              "1    161.6       123           82.0        9.78      13.7  \n",
              "2    243.4       114           52.0        6.06      12.2  \n",
              "3    299.4        71           57.0        3.10       6.6  \n",
              "4    166.7       113           41.0        7.42      10.1  "
            ],
            "text/html": [
              "\n",
              "  <div id=\"df-927db6c2-9c3e-4f50-bc58-499af289f237\">\n",
              "    <div class=\"colab-df-container\">\n",
              "      <div>\n",
              "<style scoped>\n",
              "    .dataframe tbody tr th:only-of-type {\n",
              "        vertical-align: middle;\n",
              "    }\n",
              "\n",
              "    .dataframe tbody tr th {\n",
              "        vertical-align: top;\n",
              "    }\n",
              "\n",
              "    .dataframe thead th {\n",
              "        text-align: right;\n",
              "    }\n",
              "</style>\n",
              "<table border=\"1\" class=\"dataframe\">\n",
              "  <thead>\n",
              "    <tr style=\"text-align: right;\">\n",
              "      <th></th>\n",
              "      <th>Churn</th>\n",
              "      <th>AccountWeeks</th>\n",
              "      <th>ContractRenewal</th>\n",
              "      <th>DataPlan</th>\n",
              "      <th>DataUsage</th>\n",
              "      <th>CustServCalls</th>\n",
              "      <th>DayMins</th>\n",
              "      <th>DayCalls</th>\n",
              "      <th>MonthlyCharge</th>\n",
              "      <th>OverageFee</th>\n",
              "      <th>RoamMins</th>\n",
              "    </tr>\n",
              "  </thead>\n",
              "  <tbody>\n",
              "    <tr>\n",
              "      <th>0</th>\n",
              "      <td>0</td>\n",
              "      <td>128</td>\n",
              "      <td>1</td>\n",
              "      <td>1</td>\n",
              "      <td>2.7</td>\n",
              "      <td>1</td>\n",
              "      <td>265.1</td>\n",
              "      <td>110</td>\n",
              "      <td>89.0</td>\n",
              "      <td>9.87</td>\n",
              "      <td>10.0</td>\n",
              "    </tr>\n",
              "    <tr>\n",
              "      <th>1</th>\n",
              "      <td>0</td>\n",
              "      <td>107</td>\n",
              "      <td>1</td>\n",
              "      <td>1</td>\n",
              "      <td>3.7</td>\n",
              "      <td>1</td>\n",
              "      <td>161.6</td>\n",
              "      <td>123</td>\n",
              "      <td>82.0</td>\n",
              "      <td>9.78</td>\n",
              "      <td>13.7</td>\n",
              "    </tr>\n",
              "    <tr>\n",
              "      <th>2</th>\n",
              "      <td>0</td>\n",
              "      <td>137</td>\n",
              "      <td>1</td>\n",
              "      <td>0</td>\n",
              "      <td>0.0</td>\n",
              "      <td>0</td>\n",
              "      <td>243.4</td>\n",
              "      <td>114</td>\n",
              "      <td>52.0</td>\n",
              "      <td>6.06</td>\n",
              "      <td>12.2</td>\n",
              "    </tr>\n",
              "    <tr>\n",
              "      <th>3</th>\n",
              "      <td>0</td>\n",
              "      <td>84</td>\n",
              "      <td>0</td>\n",
              "      <td>0</td>\n",
              "      <td>0.0</td>\n",
              "      <td>2</td>\n",
              "      <td>299.4</td>\n",
              "      <td>71</td>\n",
              "      <td>57.0</td>\n",
              "      <td>3.10</td>\n",
              "      <td>6.6</td>\n",
              "    </tr>\n",
              "    <tr>\n",
              "      <th>4</th>\n",
              "      <td>0</td>\n",
              "      <td>75</td>\n",
              "      <td>0</td>\n",
              "      <td>0</td>\n",
              "      <td>0.0</td>\n",
              "      <td>3</td>\n",
              "      <td>166.7</td>\n",
              "      <td>113</td>\n",
              "      <td>41.0</td>\n",
              "      <td>7.42</td>\n",
              "      <td>10.1</td>\n",
              "    </tr>\n",
              "  </tbody>\n",
              "</table>\n",
              "</div>\n",
              "      <button class=\"colab-df-convert\" onclick=\"convertToInteractive('df-927db6c2-9c3e-4f50-bc58-499af289f237')\"\n",
              "              title=\"Convert this dataframe to an interactive table.\"\n",
              "              style=\"display:none;\">\n",
              "        \n",
              "  <svg xmlns=\"http://www.w3.org/2000/svg\" height=\"24px\"viewBox=\"0 0 24 24\"\n",
              "       width=\"24px\">\n",
              "    <path d=\"M0 0h24v24H0V0z\" fill=\"none\"/>\n",
              "    <path d=\"M18.56 5.44l.94 2.06.94-2.06 2.06-.94-2.06-.94-.94-2.06-.94 2.06-2.06.94zm-11 1L8.5 8.5l.94-2.06 2.06-.94-2.06-.94L8.5 2.5l-.94 2.06-2.06.94zm10 10l.94 2.06.94-2.06 2.06-.94-2.06-.94-.94-2.06-.94 2.06-2.06.94z\"/><path d=\"M17.41 7.96l-1.37-1.37c-.4-.4-.92-.59-1.43-.59-.52 0-1.04.2-1.43.59L10.3 9.45l-7.72 7.72c-.78.78-.78 2.05 0 2.83L4 21.41c.39.39.9.59 1.41.59.51 0 1.02-.2 1.41-.59l7.78-7.78 2.81-2.81c.8-.78.8-2.07 0-2.86zM5.41 20L4 18.59l7.72-7.72 1.47 1.35L5.41 20z\"/>\n",
              "  </svg>\n",
              "      </button>\n",
              "      \n",
              "  <style>\n",
              "    .colab-df-container {\n",
              "      display:flex;\n",
              "      flex-wrap:wrap;\n",
              "      gap: 12px;\n",
              "    }\n",
              "\n",
              "    .colab-df-convert {\n",
              "      background-color: #E8F0FE;\n",
              "      border: none;\n",
              "      border-radius: 50%;\n",
              "      cursor: pointer;\n",
              "      display: none;\n",
              "      fill: #1967D2;\n",
              "      height: 32px;\n",
              "      padding: 0 0 0 0;\n",
              "      width: 32px;\n",
              "    }\n",
              "\n",
              "    .colab-df-convert:hover {\n",
              "      background-color: #E2EBFA;\n",
              "      box-shadow: 0px 1px 2px rgba(60, 64, 67, 0.3), 0px 1px 3px 1px rgba(60, 64, 67, 0.15);\n",
              "      fill: #174EA6;\n",
              "    }\n",
              "\n",
              "    [theme=dark] .colab-df-convert {\n",
              "      background-color: #3B4455;\n",
              "      fill: #D2E3FC;\n",
              "    }\n",
              "\n",
              "    [theme=dark] .colab-df-convert:hover {\n",
              "      background-color: #434B5C;\n",
              "      box-shadow: 0px 1px 3px 1px rgba(0, 0, 0, 0.15);\n",
              "      filter: drop-shadow(0px 1px 2px rgba(0, 0, 0, 0.3));\n",
              "      fill: #FFFFFF;\n",
              "    }\n",
              "  </style>\n",
              "\n",
              "      <script>\n",
              "        const buttonEl =\n",
              "          document.querySelector('#df-927db6c2-9c3e-4f50-bc58-499af289f237 button.colab-df-convert');\n",
              "        buttonEl.style.display =\n",
              "          google.colab.kernel.accessAllowed ? 'block' : 'none';\n",
              "\n",
              "        async function convertToInteractive(key) {\n",
              "          const element = document.querySelector('#df-927db6c2-9c3e-4f50-bc58-499af289f237');\n",
              "          const dataTable =\n",
              "            await google.colab.kernel.invokeFunction('convertToInteractive',\n",
              "                                                     [key], {});\n",
              "          if (!dataTable) return;\n",
              "\n",
              "          const docLinkHtml = 'Like what you see? Visit the ' +\n",
              "            '<a target=\"_blank\" href=https://colab.research.google.com/notebooks/data_table.ipynb>data table notebook</a>'\n",
              "            + ' to learn more about interactive tables.';\n",
              "          element.innerHTML = '';\n",
              "          dataTable['output_type'] = 'display_data';\n",
              "          await google.colab.output.renderOutput(dataTable, element);\n",
              "          const docLink = document.createElement('div');\n",
              "          docLink.innerHTML = docLinkHtml;\n",
              "          element.appendChild(docLink);\n",
              "        }\n",
              "      </script>\n",
              "    </div>\n",
              "  </div>\n",
              "  "
            ]
          },
          "metadata": {},
          "execution_count": 59
        }
      ],
      "source": [
        "df = pd.read_csv(\"telecom_churn.csv\")\n",
        "df.head()"
      ]
    },
    {
      "cell_type": "code",
      "execution_count": null,
      "metadata": {
        "id": "cwp4gQKbDtZA",
        "colab": {
          "base_uri": "https://localhost:8080/",
          "height": 206
        },
        "outputId": "ea729535-a830-42e0-e7b8-46945f13797d"
      },
      "outputs": [
        {
          "output_type": "execute_result",
          "data": {
            "text/plain": [
              "      Churn  AccountWeeks  ContractRenewal  DataPlan  DataUsage  \\\n",
              "3328      0           192                1         1       2.67   \n",
              "3329      0            68                1         0       0.34   \n",
              "3330      0            28                1         0       0.00   \n",
              "3331      0           184                0         0       0.00   \n",
              "3332      0            74                1         1       3.70   \n",
              "\n",
              "      CustServCalls  DayMins  DayCalls  MonthlyCharge  OverageFee  RoamMins  \n",
              "3328              2    156.2        77           71.7       10.78       9.9  \n",
              "3329              3    231.1        57           56.4        7.67       9.6  \n",
              "3330              2    180.8       109           56.0       14.44      14.1  \n",
              "3331              2    213.8       105           50.0        7.98       5.0  \n",
              "3332              0    234.4       113          100.0       13.30      13.7  "
            ],
            "text/html": [
              "\n",
              "  <div id=\"df-d27db44c-6437-4a5b-a4c3-ceb6c12a667b\">\n",
              "    <div class=\"colab-df-container\">\n",
              "      <div>\n",
              "<style scoped>\n",
              "    .dataframe tbody tr th:only-of-type {\n",
              "        vertical-align: middle;\n",
              "    }\n",
              "\n",
              "    .dataframe tbody tr th {\n",
              "        vertical-align: top;\n",
              "    }\n",
              "\n",
              "    .dataframe thead th {\n",
              "        text-align: right;\n",
              "    }\n",
              "</style>\n",
              "<table border=\"1\" class=\"dataframe\">\n",
              "  <thead>\n",
              "    <tr style=\"text-align: right;\">\n",
              "      <th></th>\n",
              "      <th>Churn</th>\n",
              "      <th>AccountWeeks</th>\n",
              "      <th>ContractRenewal</th>\n",
              "      <th>DataPlan</th>\n",
              "      <th>DataUsage</th>\n",
              "      <th>CustServCalls</th>\n",
              "      <th>DayMins</th>\n",
              "      <th>DayCalls</th>\n",
              "      <th>MonthlyCharge</th>\n",
              "      <th>OverageFee</th>\n",
              "      <th>RoamMins</th>\n",
              "    </tr>\n",
              "  </thead>\n",
              "  <tbody>\n",
              "    <tr>\n",
              "      <th>3328</th>\n",
              "      <td>0</td>\n",
              "      <td>192</td>\n",
              "      <td>1</td>\n",
              "      <td>1</td>\n",
              "      <td>2.67</td>\n",
              "      <td>2</td>\n",
              "      <td>156.2</td>\n",
              "      <td>77</td>\n",
              "      <td>71.7</td>\n",
              "      <td>10.78</td>\n",
              "      <td>9.9</td>\n",
              "    </tr>\n",
              "    <tr>\n",
              "      <th>3329</th>\n",
              "      <td>0</td>\n",
              "      <td>68</td>\n",
              "      <td>1</td>\n",
              "      <td>0</td>\n",
              "      <td>0.34</td>\n",
              "      <td>3</td>\n",
              "      <td>231.1</td>\n",
              "      <td>57</td>\n",
              "      <td>56.4</td>\n",
              "      <td>7.67</td>\n",
              "      <td>9.6</td>\n",
              "    </tr>\n",
              "    <tr>\n",
              "      <th>3330</th>\n",
              "      <td>0</td>\n",
              "      <td>28</td>\n",
              "      <td>1</td>\n",
              "      <td>0</td>\n",
              "      <td>0.00</td>\n",
              "      <td>2</td>\n",
              "      <td>180.8</td>\n",
              "      <td>109</td>\n",
              "      <td>56.0</td>\n",
              "      <td>14.44</td>\n",
              "      <td>14.1</td>\n",
              "    </tr>\n",
              "    <tr>\n",
              "      <th>3331</th>\n",
              "      <td>0</td>\n",
              "      <td>184</td>\n",
              "      <td>0</td>\n",
              "      <td>0</td>\n",
              "      <td>0.00</td>\n",
              "      <td>2</td>\n",
              "      <td>213.8</td>\n",
              "      <td>105</td>\n",
              "      <td>50.0</td>\n",
              "      <td>7.98</td>\n",
              "      <td>5.0</td>\n",
              "    </tr>\n",
              "    <tr>\n",
              "      <th>3332</th>\n",
              "      <td>0</td>\n",
              "      <td>74</td>\n",
              "      <td>1</td>\n",
              "      <td>1</td>\n",
              "      <td>3.70</td>\n",
              "      <td>0</td>\n",
              "      <td>234.4</td>\n",
              "      <td>113</td>\n",
              "      <td>100.0</td>\n",
              "      <td>13.30</td>\n",
              "      <td>13.7</td>\n",
              "    </tr>\n",
              "  </tbody>\n",
              "</table>\n",
              "</div>\n",
              "      <button class=\"colab-df-convert\" onclick=\"convertToInteractive('df-d27db44c-6437-4a5b-a4c3-ceb6c12a667b')\"\n",
              "              title=\"Convert this dataframe to an interactive table.\"\n",
              "              style=\"display:none;\">\n",
              "        \n",
              "  <svg xmlns=\"http://www.w3.org/2000/svg\" height=\"24px\"viewBox=\"0 0 24 24\"\n",
              "       width=\"24px\">\n",
              "    <path d=\"M0 0h24v24H0V0z\" fill=\"none\"/>\n",
              "    <path d=\"M18.56 5.44l.94 2.06.94-2.06 2.06-.94-2.06-.94-.94-2.06-.94 2.06-2.06.94zm-11 1L8.5 8.5l.94-2.06 2.06-.94-2.06-.94L8.5 2.5l-.94 2.06-2.06.94zm10 10l.94 2.06.94-2.06 2.06-.94-2.06-.94-.94-2.06-.94 2.06-2.06.94z\"/><path d=\"M17.41 7.96l-1.37-1.37c-.4-.4-.92-.59-1.43-.59-.52 0-1.04.2-1.43.59L10.3 9.45l-7.72 7.72c-.78.78-.78 2.05 0 2.83L4 21.41c.39.39.9.59 1.41.59.51 0 1.02-.2 1.41-.59l7.78-7.78 2.81-2.81c.8-.78.8-2.07 0-2.86zM5.41 20L4 18.59l7.72-7.72 1.47 1.35L5.41 20z\"/>\n",
              "  </svg>\n",
              "      </button>\n",
              "      \n",
              "  <style>\n",
              "    .colab-df-container {\n",
              "      display:flex;\n",
              "      flex-wrap:wrap;\n",
              "      gap: 12px;\n",
              "    }\n",
              "\n",
              "    .colab-df-convert {\n",
              "      background-color: #E8F0FE;\n",
              "      border: none;\n",
              "      border-radius: 50%;\n",
              "      cursor: pointer;\n",
              "      display: none;\n",
              "      fill: #1967D2;\n",
              "      height: 32px;\n",
              "      padding: 0 0 0 0;\n",
              "      width: 32px;\n",
              "    }\n",
              "\n",
              "    .colab-df-convert:hover {\n",
              "      background-color: #E2EBFA;\n",
              "      box-shadow: 0px 1px 2px rgba(60, 64, 67, 0.3), 0px 1px 3px 1px rgba(60, 64, 67, 0.15);\n",
              "      fill: #174EA6;\n",
              "    }\n",
              "\n",
              "    [theme=dark] .colab-df-convert {\n",
              "      background-color: #3B4455;\n",
              "      fill: #D2E3FC;\n",
              "    }\n",
              "\n",
              "    [theme=dark] .colab-df-convert:hover {\n",
              "      background-color: #434B5C;\n",
              "      box-shadow: 0px 1px 3px 1px rgba(0, 0, 0, 0.15);\n",
              "      filter: drop-shadow(0px 1px 2px rgba(0, 0, 0, 0.3));\n",
              "      fill: #FFFFFF;\n",
              "    }\n",
              "  </style>\n",
              "\n",
              "      <script>\n",
              "        const buttonEl =\n",
              "          document.querySelector('#df-d27db44c-6437-4a5b-a4c3-ceb6c12a667b button.colab-df-convert');\n",
              "        buttonEl.style.display =\n",
              "          google.colab.kernel.accessAllowed ? 'block' : 'none';\n",
              "\n",
              "        async function convertToInteractive(key) {\n",
              "          const element = document.querySelector('#df-d27db44c-6437-4a5b-a4c3-ceb6c12a667b');\n",
              "          const dataTable =\n",
              "            await google.colab.kernel.invokeFunction('convertToInteractive',\n",
              "                                                     [key], {});\n",
              "          if (!dataTable) return;\n",
              "\n",
              "          const docLinkHtml = 'Like what you see? Visit the ' +\n",
              "            '<a target=\"_blank\" href=https://colab.research.google.com/notebooks/data_table.ipynb>data table notebook</a>'\n",
              "            + ' to learn more about interactive tables.';\n",
              "          element.innerHTML = '';\n",
              "          dataTable['output_type'] = 'display_data';\n",
              "          await google.colab.output.renderOutput(dataTable, element);\n",
              "          const docLink = document.createElement('div');\n",
              "          docLink.innerHTML = docLinkHtml;\n",
              "          element.appendChild(docLink);\n",
              "        }\n",
              "      </script>\n",
              "    </div>\n",
              "  </div>\n",
              "  "
            ]
          },
          "metadata": {},
          "execution_count": 60
        }
      ],
      "source": [
        "df.tail()"
      ]
    },
    {
      "cell_type": "code",
      "execution_count": null,
      "metadata": {
        "id": "vB8CYA8dDtZB",
        "colab": {
          "base_uri": "https://localhost:8080/"
        },
        "outputId": "ce3433fb-3415-4529-fef4-a5860a7eb3c0"
      },
      "outputs": [
        {
          "output_type": "stream",
          "name": "stdout",
          "text": [
            "<class 'pandas.core.frame.DataFrame'>\n",
            "RangeIndex: 3333 entries, 0 to 3332\n",
            "Data columns (total 11 columns):\n",
            " #   Column           Non-Null Count  Dtype  \n",
            "---  ------           --------------  -----  \n",
            " 0   Churn            3333 non-null   int64  \n",
            " 1   AccountWeeks     3333 non-null   int64  \n",
            " 2   ContractRenewal  3333 non-null   int64  \n",
            " 3   DataPlan         3333 non-null   int64  \n",
            " 4   DataUsage        3333 non-null   float64\n",
            " 5   CustServCalls    3333 non-null   int64  \n",
            " 6   DayMins          3333 non-null   float64\n",
            " 7   DayCalls         3333 non-null   int64  \n",
            " 8   MonthlyCharge    3333 non-null   float64\n",
            " 9   OverageFee       3333 non-null   float64\n",
            " 10  RoamMins         3333 non-null   float64\n",
            "dtypes: float64(5), int64(6)\n",
            "memory usage: 286.6 KB\n"
          ]
        }
      ],
      "source": [
        "df.info()"
      ]
    },
    {
      "cell_type": "code",
      "source": [
        "df.columns"
      ],
      "metadata": {
        "colab": {
          "base_uri": "https://localhost:8080/"
        },
        "id": "Hwyt8ftAuZub",
        "outputId": "eeb23a1c-80b2-4741-9c71-0ebf33f8f7cf"
      },
      "execution_count": null,
      "outputs": [
        {
          "output_type": "execute_result",
          "data": {
            "text/plain": [
              "Index(['Churn', 'AccountWeeks', 'ContractRenewal', 'DataPlan', 'DataUsage',\n",
              "       'CustServCalls', 'DayMins', 'DayCalls', 'MonthlyCharge', 'OverageFee',\n",
              "       'RoamMins'],\n",
              "      dtype='object')"
            ]
          },
          "metadata": {},
          "execution_count": 62
        }
      ]
    },
    {
      "cell_type": "code",
      "execution_count": null,
      "metadata": {
        "id": "r5bcP1SUDtZF",
        "colab": {
          "base_uri": "https://localhost:8080/"
        },
        "outputId": "38b139b3-3343-4f08-b8a5-1a0e9760fd79"
      },
      "outputs": [
        {
          "output_type": "execute_result",
          "data": {
            "text/plain": [
              "(3333, 11)"
            ]
          },
          "metadata": {},
          "execution_count": 63
        }
      ],
      "source": [
        "df.shape"
      ]
    },
    {
      "cell_type": "markdown",
      "source": [
        "check apakah ada yang kosong"
      ],
      "metadata": {
        "id": "xtxVctkV5oz2"
      }
    },
    {
      "cell_type": "code",
      "source": [
        "df.isnull().sum()"
      ],
      "metadata": {
        "id": "G7m_H-AY5t-r",
        "colab": {
          "base_uri": "https://localhost:8080/"
        },
        "outputId": "0c50b0d3-8fb5-472e-de7a-a69422bc0532"
      },
      "execution_count": null,
      "outputs": [
        {
          "output_type": "execute_result",
          "data": {
            "text/plain": [
              "Churn              0\n",
              "AccountWeeks       0\n",
              "ContractRenewal    0\n",
              "DataPlan           0\n",
              "DataUsage          0\n",
              "CustServCalls      0\n",
              "DayMins            0\n",
              "DayCalls           0\n",
              "MonthlyCharge      0\n",
              "OverageFee         0\n",
              "RoamMins           0\n",
              "dtype: int64"
            ]
          },
          "metadata": {},
          "execution_count": 64
        }
      ]
    },
    {
      "cell_type": "code",
      "execution_count": null,
      "metadata": {
        "id": "fntT03UDDtZH",
        "colab": {
          "base_uri": "https://localhost:8080/",
          "height": 300
        },
        "outputId": "f6704d32-da7e-46d5-e8ed-9ccab6cfc0ec"
      },
      "outputs": [
        {
          "output_type": "execute_result",
          "data": {
            "text/plain": [
              "             Churn  AccountWeeks  ContractRenewal     DataPlan    DataUsage  \\\n",
              "count  3333.000000   3333.000000      3333.000000  3333.000000  3333.000000   \n",
              "mean      0.144914    101.064806         0.903090     0.276628     0.816475   \n",
              "std       0.352067     39.822106         0.295879     0.447398     1.272668   \n",
              "min       0.000000      1.000000         0.000000     0.000000     0.000000   \n",
              "25%       0.000000     74.000000         1.000000     0.000000     0.000000   \n",
              "50%       0.000000    101.000000         1.000000     0.000000     0.000000   \n",
              "75%       0.000000    127.000000         1.000000     1.000000     1.780000   \n",
              "max       1.000000    243.000000         1.000000     1.000000     5.400000   \n",
              "\n",
              "       CustServCalls      DayMins     DayCalls  MonthlyCharge   OverageFee  \\\n",
              "count    3333.000000  3333.000000  3333.000000    3333.000000  3333.000000   \n",
              "mean        1.562856   179.775098   100.435644      56.305161    10.051488   \n",
              "std         1.315491    54.467389    20.069084      16.426032     2.535712   \n",
              "min         0.000000     0.000000     0.000000      14.000000     0.000000   \n",
              "25%         1.000000   143.700000    87.000000      45.000000     8.330000   \n",
              "50%         1.000000   179.400000   101.000000      53.500000    10.070000   \n",
              "75%         2.000000   216.400000   114.000000      66.200000    11.770000   \n",
              "max         9.000000   350.800000   165.000000     111.300000    18.190000   \n",
              "\n",
              "          RoamMins  \n",
              "count  3333.000000  \n",
              "mean     10.237294  \n",
              "std       2.791840  \n",
              "min       0.000000  \n",
              "25%       8.500000  \n",
              "50%      10.300000  \n",
              "75%      12.100000  \n",
              "max      20.000000  "
            ],
            "text/html": [
              "\n",
              "  <div id=\"df-1201ced7-2fa6-454a-8d7d-877930948ce7\">\n",
              "    <div class=\"colab-df-container\">\n",
              "      <div>\n",
              "<style scoped>\n",
              "    .dataframe tbody tr th:only-of-type {\n",
              "        vertical-align: middle;\n",
              "    }\n",
              "\n",
              "    .dataframe tbody tr th {\n",
              "        vertical-align: top;\n",
              "    }\n",
              "\n",
              "    .dataframe thead th {\n",
              "        text-align: right;\n",
              "    }\n",
              "</style>\n",
              "<table border=\"1\" class=\"dataframe\">\n",
              "  <thead>\n",
              "    <tr style=\"text-align: right;\">\n",
              "      <th></th>\n",
              "      <th>Churn</th>\n",
              "      <th>AccountWeeks</th>\n",
              "      <th>ContractRenewal</th>\n",
              "      <th>DataPlan</th>\n",
              "      <th>DataUsage</th>\n",
              "      <th>CustServCalls</th>\n",
              "      <th>DayMins</th>\n",
              "      <th>DayCalls</th>\n",
              "      <th>MonthlyCharge</th>\n",
              "      <th>OverageFee</th>\n",
              "      <th>RoamMins</th>\n",
              "    </tr>\n",
              "  </thead>\n",
              "  <tbody>\n",
              "    <tr>\n",
              "      <th>count</th>\n",
              "      <td>3333.000000</td>\n",
              "      <td>3333.000000</td>\n",
              "      <td>3333.000000</td>\n",
              "      <td>3333.000000</td>\n",
              "      <td>3333.000000</td>\n",
              "      <td>3333.000000</td>\n",
              "      <td>3333.000000</td>\n",
              "      <td>3333.000000</td>\n",
              "      <td>3333.000000</td>\n",
              "      <td>3333.000000</td>\n",
              "      <td>3333.000000</td>\n",
              "    </tr>\n",
              "    <tr>\n",
              "      <th>mean</th>\n",
              "      <td>0.144914</td>\n",
              "      <td>101.064806</td>\n",
              "      <td>0.903090</td>\n",
              "      <td>0.276628</td>\n",
              "      <td>0.816475</td>\n",
              "      <td>1.562856</td>\n",
              "      <td>179.775098</td>\n",
              "      <td>100.435644</td>\n",
              "      <td>56.305161</td>\n",
              "      <td>10.051488</td>\n",
              "      <td>10.237294</td>\n",
              "    </tr>\n",
              "    <tr>\n",
              "      <th>std</th>\n",
              "      <td>0.352067</td>\n",
              "      <td>39.822106</td>\n",
              "      <td>0.295879</td>\n",
              "      <td>0.447398</td>\n",
              "      <td>1.272668</td>\n",
              "      <td>1.315491</td>\n",
              "      <td>54.467389</td>\n",
              "      <td>20.069084</td>\n",
              "      <td>16.426032</td>\n",
              "      <td>2.535712</td>\n",
              "      <td>2.791840</td>\n",
              "    </tr>\n",
              "    <tr>\n",
              "      <th>min</th>\n",
              "      <td>0.000000</td>\n",
              "      <td>1.000000</td>\n",
              "      <td>0.000000</td>\n",
              "      <td>0.000000</td>\n",
              "      <td>0.000000</td>\n",
              "      <td>0.000000</td>\n",
              "      <td>0.000000</td>\n",
              "      <td>0.000000</td>\n",
              "      <td>14.000000</td>\n",
              "      <td>0.000000</td>\n",
              "      <td>0.000000</td>\n",
              "    </tr>\n",
              "    <tr>\n",
              "      <th>25%</th>\n",
              "      <td>0.000000</td>\n",
              "      <td>74.000000</td>\n",
              "      <td>1.000000</td>\n",
              "      <td>0.000000</td>\n",
              "      <td>0.000000</td>\n",
              "      <td>1.000000</td>\n",
              "      <td>143.700000</td>\n",
              "      <td>87.000000</td>\n",
              "      <td>45.000000</td>\n",
              "      <td>8.330000</td>\n",
              "      <td>8.500000</td>\n",
              "    </tr>\n",
              "    <tr>\n",
              "      <th>50%</th>\n",
              "      <td>0.000000</td>\n",
              "      <td>101.000000</td>\n",
              "      <td>1.000000</td>\n",
              "      <td>0.000000</td>\n",
              "      <td>0.000000</td>\n",
              "      <td>1.000000</td>\n",
              "      <td>179.400000</td>\n",
              "      <td>101.000000</td>\n",
              "      <td>53.500000</td>\n",
              "      <td>10.070000</td>\n",
              "      <td>10.300000</td>\n",
              "    </tr>\n",
              "    <tr>\n",
              "      <th>75%</th>\n",
              "      <td>0.000000</td>\n",
              "      <td>127.000000</td>\n",
              "      <td>1.000000</td>\n",
              "      <td>1.000000</td>\n",
              "      <td>1.780000</td>\n",
              "      <td>2.000000</td>\n",
              "      <td>216.400000</td>\n",
              "      <td>114.000000</td>\n",
              "      <td>66.200000</td>\n",
              "      <td>11.770000</td>\n",
              "      <td>12.100000</td>\n",
              "    </tr>\n",
              "    <tr>\n",
              "      <th>max</th>\n",
              "      <td>1.000000</td>\n",
              "      <td>243.000000</td>\n",
              "      <td>1.000000</td>\n",
              "      <td>1.000000</td>\n",
              "      <td>5.400000</td>\n",
              "      <td>9.000000</td>\n",
              "      <td>350.800000</td>\n",
              "      <td>165.000000</td>\n",
              "      <td>111.300000</td>\n",
              "      <td>18.190000</td>\n",
              "      <td>20.000000</td>\n",
              "    </tr>\n",
              "  </tbody>\n",
              "</table>\n",
              "</div>\n",
              "      <button class=\"colab-df-convert\" onclick=\"convertToInteractive('df-1201ced7-2fa6-454a-8d7d-877930948ce7')\"\n",
              "              title=\"Convert this dataframe to an interactive table.\"\n",
              "              style=\"display:none;\">\n",
              "        \n",
              "  <svg xmlns=\"http://www.w3.org/2000/svg\" height=\"24px\"viewBox=\"0 0 24 24\"\n",
              "       width=\"24px\">\n",
              "    <path d=\"M0 0h24v24H0V0z\" fill=\"none\"/>\n",
              "    <path d=\"M18.56 5.44l.94 2.06.94-2.06 2.06-.94-2.06-.94-.94-2.06-.94 2.06-2.06.94zm-11 1L8.5 8.5l.94-2.06 2.06-.94-2.06-.94L8.5 2.5l-.94 2.06-2.06.94zm10 10l.94 2.06.94-2.06 2.06-.94-2.06-.94-.94-2.06-.94 2.06-2.06.94z\"/><path d=\"M17.41 7.96l-1.37-1.37c-.4-.4-.92-.59-1.43-.59-.52 0-1.04.2-1.43.59L10.3 9.45l-7.72 7.72c-.78.78-.78 2.05 0 2.83L4 21.41c.39.39.9.59 1.41.59.51 0 1.02-.2 1.41-.59l7.78-7.78 2.81-2.81c.8-.78.8-2.07 0-2.86zM5.41 20L4 18.59l7.72-7.72 1.47 1.35L5.41 20z\"/>\n",
              "  </svg>\n",
              "      </button>\n",
              "      \n",
              "  <style>\n",
              "    .colab-df-container {\n",
              "      display:flex;\n",
              "      flex-wrap:wrap;\n",
              "      gap: 12px;\n",
              "    }\n",
              "\n",
              "    .colab-df-convert {\n",
              "      background-color: #E8F0FE;\n",
              "      border: none;\n",
              "      border-radius: 50%;\n",
              "      cursor: pointer;\n",
              "      display: none;\n",
              "      fill: #1967D2;\n",
              "      height: 32px;\n",
              "      padding: 0 0 0 0;\n",
              "      width: 32px;\n",
              "    }\n",
              "\n",
              "    .colab-df-convert:hover {\n",
              "      background-color: #E2EBFA;\n",
              "      box-shadow: 0px 1px 2px rgba(60, 64, 67, 0.3), 0px 1px 3px 1px rgba(60, 64, 67, 0.15);\n",
              "      fill: #174EA6;\n",
              "    }\n",
              "\n",
              "    [theme=dark] .colab-df-convert {\n",
              "      background-color: #3B4455;\n",
              "      fill: #D2E3FC;\n",
              "    }\n",
              "\n",
              "    [theme=dark] .colab-df-convert:hover {\n",
              "      background-color: #434B5C;\n",
              "      box-shadow: 0px 1px 3px 1px rgba(0, 0, 0, 0.15);\n",
              "      filter: drop-shadow(0px 1px 2px rgba(0, 0, 0, 0.3));\n",
              "      fill: #FFFFFF;\n",
              "    }\n",
              "  </style>\n",
              "\n",
              "      <script>\n",
              "        const buttonEl =\n",
              "          document.querySelector('#df-1201ced7-2fa6-454a-8d7d-877930948ce7 button.colab-df-convert');\n",
              "        buttonEl.style.display =\n",
              "          google.colab.kernel.accessAllowed ? 'block' : 'none';\n",
              "\n",
              "        async function convertToInteractive(key) {\n",
              "          const element = document.querySelector('#df-1201ced7-2fa6-454a-8d7d-877930948ce7');\n",
              "          const dataTable =\n",
              "            await google.colab.kernel.invokeFunction('convertToInteractive',\n",
              "                                                     [key], {});\n",
              "          if (!dataTable) return;\n",
              "\n",
              "          const docLinkHtml = 'Like what you see? Visit the ' +\n",
              "            '<a target=\"_blank\" href=https://colab.research.google.com/notebooks/data_table.ipynb>data table notebook</a>'\n",
              "            + ' to learn more about interactive tables.';\n",
              "          element.innerHTML = '';\n",
              "          dataTable['output_type'] = 'display_data';\n",
              "          await google.colab.output.renderOutput(dataTable, element);\n",
              "          const docLink = document.createElement('div');\n",
              "          docLink.innerHTML = docLinkHtml;\n",
              "          element.appendChild(docLink);\n",
              "        }\n",
              "      </script>\n",
              "    </div>\n",
              "  </div>\n",
              "  "
            ]
          },
          "metadata": {},
          "execution_count": 65
        }
      ],
      "source": [
        "df.describe()"
      ]
    },
    {
      "cell_type": "code",
      "execution_count": null,
      "metadata": {
        "id": "q4IS-Rn8DtZN",
        "colab": {
          "base_uri": "https://localhost:8080/",
          "height": 716
        },
        "outputId": "6412ed82-d372-4505-f00b-bdc8c674d139"
      },
      "outputs": [
        {
          "output_type": "display_data",
          "data": {
            "text/plain": [
              "<Figure size 1080x864 with 12 Axes>"
            ],
            "image/png": "[encoded data removed]"
          },
          "metadata": {
            "needs_background": "light"
          }
        }
      ],
      "source": [
        "df.hist(edgecolor='black', linewidth=1.2)\n",
        "fig = plt.gcf()\n",
        "fig.set_size_inches(15,12)\n",
        "plt.show()"
      ]
    },
    {
      "cell_type": "code",
      "source": [],
      "metadata": {
        "id": "-Urpa7Ucl1oi"
      },
      "execution_count": null,
      "outputs": []
    },
    {
      "cell_type": "markdown",
      "source": [],
      "metadata": {
        "id": "YH1-pMBQ6Syv"
      }
    },
    {
      "cell_type": "code",
      "source": [
        "plt.figure(figsize=(20,7))\n",
        "sns.boxplot(data=df)"
      ],
      "metadata": {
        "id": "Si-Q-peQdC_H",
        "colab": {
          "base_uri": "https://localhost:8080/",
          "height": 445
        },
        "outputId": "06136240-c066-4e4f-e26d-5c51a0c2a7d7"
      },
      "execution_count": null,
      "outputs": [
        {
          "output_type": "execute_result",
          "data": {
            "text/plain": [
              "<matplotlib.axes._subplots.AxesSubplot at 0x7f6318b26940>"
            ]
          },
          "metadata": {},
          "execution_count": 67
        },
        {
          "output_type": "display_data",
          "data": {
            "text/plain": [
              "<Figure size 1440x504 with 1 Axes>"
            ],
            "image/png": "[encoded data removed]"
          },
          "metadata": {
            "needs_background": "light"
          }
        }
      ]
    },
    {
      "cell_type": "code",
      "execution_count": null,
      "metadata": {
        "id": "U69F4fL-DtZP",
        "colab": {
          "base_uri": "https://localhost:8080/",
          "height": 394
        },
        "outputId": "799f6908-9880-4708-bc62-78a6c6abf625"
      },
      "outputs": [
        {
          "output_type": "execute_result",
          "data": {
            "text/plain": [
              "                    Churn  AccountWeeks  ContractRenewal  DataPlan  DataUsage  \\\n",
              "Churn            1.000000      0.016541         0.259852  0.102148   0.087195   \n",
              "AccountWeeks     0.016541      1.000000         0.024735  0.002918   0.014391   \n",
              "ContractRenewal  0.259852      0.024735         1.000000  0.006006   0.019223   \n",
              "DataPlan         0.102148      0.002918         0.006006  1.000000   0.945982   \n",
              "DataUsage        0.087195      0.014391         0.019223  0.945982   1.000000   \n",
              "CustServCalls    0.208750      0.003796         0.024522  0.017824   0.021723   \n",
              "DayMins          0.205151      0.006216         0.049396  0.001684   0.003176   \n",
              "DayCalls         0.018459      0.038470         0.003755  0.011086   0.007962   \n",
              "MonthlyCharge    0.072313      0.012581         0.047291  0.737490   0.781660   \n",
              "OverageFee       0.092812      0.006749         0.019105  0.021526   0.019637   \n",
              "RoamMins         0.068239      0.009514         0.045871  0.001318   0.162746   \n",
              "\n",
              "                 CustServCalls   DayMins  DayCalls  MonthlyCharge  OverageFee  \\\n",
              "Churn                 0.208750  0.205151  0.018459       0.072313    0.092812   \n",
              "AccountWeeks          0.003796  0.006216  0.038470       0.012581    0.006749   \n",
              "ContractRenewal       0.024522  0.049396  0.003755       0.047291    0.019105   \n",
              "DataPlan              0.017824  0.001684  0.011086       0.737490    0.021526   \n",
              "DataUsage             0.021723  0.003176  0.007962       0.781660    0.019637   \n",
              "CustServCalls         1.000000  0.013423  0.018942       0.028017    0.012964   \n",
              "DayMins               0.013423  1.000000  0.006750       0.567968    0.007038   \n",
              "DayCalls              0.018942  0.006750  1.000000       0.007963    0.021449   \n",
              "MonthlyCharge         0.028017  0.567968  0.007963       1.000000    0.281766   \n",
              "OverageFee            0.012964  0.007038  0.021449       0.281766    1.000000   \n",
              "RoamMins              0.009640  0.010155  0.021565       0.117433    0.011023   \n",
              "\n",
              "                 RoamMins  \n",
              "Churn            0.068239  \n",
              "AccountWeeks     0.009514  \n",
              "ContractRenewal  0.045871  \n",
              "DataPlan         0.001318  \n",
              "DataUsage        0.162746  \n",
              "CustServCalls    0.009640  \n",
              "DayMins          0.010155  \n",
              "DayCalls         0.021565  \n",
              "MonthlyCharge    0.117433  \n",
              "OverageFee       0.011023  \n",
              "RoamMins         1.000000  "
            ],
            "text/html": [
              "\n",
              "  <div id=\"df-9a569486-2eb1-46ff-b32b-a8c3a5bfdf9a\">\n",
              "    <div class=\"colab-df-container\">\n",
              "      <div>\n",
              "<style scoped>\n",
              "    .dataframe tbody tr th:only-of-type {\n",
              "        vertical-align: middle;\n",
              "    }\n",
              "\n",
              "    .dataframe tbody tr th {\n",
              "        vertical-align: top;\n",
              "    }\n",
              "\n",
              "    .dataframe thead th {\n",
              "        text-align: right;\n",
              "    }\n",
              "</style>\n",
              "<table border=\"1\" class=\"dataframe\">\n",
              "  <thead>\n",
              "    <tr style=\"text-align: right;\">\n",
              "      <th></th>\n",
              "      <th>Churn</th>\n",
              "      <th>AccountWeeks</th>\n",
              "      <th>ContractRenewal</th>\n",
              "      <th>DataPlan</th>\n",
              "      <th>DataUsage</th>\n",
              "      <th>CustServCalls</th>\n",
              "      <th>DayMins</th>\n",
              "      <th>DayCalls</th>\n",
              "      <th>MonthlyCharge</th>\n",
              "      <th>OverageFee</th>\n",
              "      <th>RoamMins</th>\n",
              "    </tr>\n",
              "  </thead>\n",
              "  <tbody>\n",
              "    <tr>\n",
              "      <th>Churn</th>\n",
              "      <td>1.000000</td>\n",
              "      <td>0.016541</td>\n",
              "      <td>0.259852</td>\n",
              "      <td>0.102148</td>\n",
              "      <td>0.087195</td>\n",
              "      <td>0.208750</td>\n",
              "      <td>0.205151</td>\n",
              "      <td>0.018459</td>\n",
              "      <td>0.072313</td>\n",
              "      <td>0.092812</td>\n",
              "      <td>0.068239</td>\n",
              "    </tr>\n",
              "    <tr>\n",
              "      <th>AccountWeeks</th>\n",
              "      <td>0.016541</td>\n",
              "      <td>1.000000</td>\n",
              "      <td>0.024735</td>\n",
              "      <td>0.002918</td>\n",
              "      <td>0.014391</td>\n",
              "      <td>0.003796</td>\n",
              "      <td>0.006216</td>\n",
              "      <td>0.038470</td>\n",
              "      <td>0.012581</td>\n",
              "      <td>0.006749</td>\n",
              "      <td>0.009514</td>\n",
              "    </tr>\n",
              "    <tr>\n",
              "      <th>ContractRenewal</th>\n",
              "      <td>0.259852</td>\n",
              "      <td>0.024735</td>\n",
              "      <td>1.000000</td>\n",
              "      <td>0.006006</td>\n",
              "      <td>0.019223</td>\n",
              "      <td>0.024522</td>\n",
              "      <td>0.049396</td>\n",
              "      <td>0.003755</td>\n",
              "      <td>0.047291</td>\n",
              "      <td>0.019105</td>\n",
              "      <td>0.045871</td>\n",
              "    </tr>\n",
              "    <tr>\n",
              "      <th>DataPlan</th>\n",
              "      <td>0.102148</td>\n",
              "      <td>0.002918</td>\n",
              "      <td>0.006006</td>\n",
              "      <td>1.000000</td>\n",
              "      <td>0.945982</td>\n",
              "      <td>0.017824</td>\n",
              "      <td>0.001684</td>\n",
              "      <td>0.011086</td>\n",
              "      <td>0.737490</td>\n",
              "      <td>0.021526</td>\n",
              "      <td>0.001318</td>\n",
              "    </tr>\n",
              "    <tr>\n",
              "      <th>DataUsage</th>\n",
              "      <td>0.087195</td>\n",
              "      <td>0.014391</td>\n",
              "      <td>0.019223</td>\n",
              "      <td>0.945982</td>\n",
              "      <td>1.000000</td>\n",
              "      <td>0.021723</td>\n",
              "      <td>0.003176</td>\n",
              "      <td>0.007962</td>\n",
              "      <td>0.781660</td>\n",
              "      <td>0.019637</td>\n",
              "      <td>0.162746</td>\n",
              "    </tr>\n",
              "    <tr>\n",
              "      <th>CustServCalls</th>\n",
              "      <td>0.208750</td>\n",
              "      <td>0.003796</td>\n",
              "      <td>0.024522</td>\n",
              "      <td>0.017824</td>\n",
              "      <td>0.021723</td>\n",
              "      <td>1.000000</td>\n",
              "      <td>0.013423</td>\n",
              "      <td>0.018942</td>\n",
              "      <td>0.028017</td>\n",
              "      <td>0.012964</td>\n",
              "      <td>0.009640</td>\n",
              "    </tr>\n",
              "    <tr>\n",
              "      <th>DayMins</th>\n",
              "      <td>0.205151</td>\n",
              "      <td>0.006216</td>\n",
              "      <td>0.049396</td>\n",
              "      <td>0.001684</td>\n",
              "      <td>0.003176</td>\n",
              "      <td>0.013423</td>\n",
              "      <td>1.000000</td>\n",
              "      <td>0.006750</td>\n",
              "      <td>0.567968</td>\n",
              "      <td>0.007038</td>\n",
              "      <td>0.010155</td>\n",
              "    </tr>\n",
              "    <tr>\n",
              "      <th>DayCalls</th>\n",
              "      <td>0.018459</td>\n",
              "      <td>0.038470</td>\n",
              "      <td>0.003755</td>\n",
              "      <td>0.011086</td>\n",
              "      <td>0.007962</td>\n",
              "      <td>0.018942</td>\n",
              "      <td>0.006750</td>\n",
              "      <td>1.000000</td>\n",
              "      <td>0.007963</td>\n",
              "      <td>0.021449</td>\n",
              "      <td>0.021565</td>\n",
              "    </tr>\n",
              "    <tr>\n",
              "      <th>MonthlyCharge</th>\n",
              "      <td>0.072313</td>\n",
              "      <td>0.012581</td>\n",
              "      <td>0.047291</td>\n",
              "      <td>0.737490</td>\n",
              "      <td>0.781660</td>\n",
              "      <td>0.028017</td>\n",
              "      <td>0.567968</td>\n",
              "      <td>0.007963</td>\n",
              "      <td>1.000000</td>\n",
              "      <td>0.281766</td>\n",
              "      <td>0.117433</td>\n",
              "    </tr>\n",
              "    <tr>\n",
              "      <th>OverageFee</th>\n",
              "      <td>0.092812</td>\n",
              "      <td>0.006749</td>\n",
              "      <td>0.019105</td>\n",
              "      <td>0.021526</td>\n",
              "      <td>0.019637</td>\n",
              "      <td>0.012964</td>\n",
              "      <td>0.007038</td>\n",
              "      <td>0.021449</td>\n",
              "      <td>0.281766</td>\n",
              "      <td>1.000000</td>\n",
              "      <td>0.011023</td>\n",
              "    </tr>\n",
              "    <tr>\n",
              "      <th>RoamMins</th>\n",
              "      <td>0.068239</td>\n",
              "      <td>0.009514</td>\n",
              "      <td>0.045871</td>\n",
              "      <td>0.001318</td>\n",
              "      <td>0.162746</td>\n",
              "      <td>0.009640</td>\n",
              "      <td>0.010155</td>\n",
              "      <td>0.021565</td>\n",
              "      <td>0.117433</td>\n",
              "      <td>0.011023</td>\n",
              "      <td>1.000000</td>\n",
              "    </tr>\n",
              "  </tbody>\n",
              "</table>\n",
              "</div>\n",
              "      <button class=\"colab-df-convert\" onclick=\"convertToInteractive('df-9a569486-2eb1-46ff-b32b-a8c3a5bfdf9a')\"\n",
              "              title=\"Convert this dataframe to an interactive table.\"\n",
              "              style=\"display:none;\">\n",
              "        \n",
              "  <svg xmlns=\"http://www.w3.org/2000/svg\" height=\"24px\"viewBox=\"0 0 24 24\"\n",
              "       width=\"24px\">\n",
              "    <path d=\"M0 0h24v24H0V0z\" fill=\"none\"/>\n",
              "    <path d=\"M18.56 5.44l.94 2.06.94-2.06 2.06-.94-2.06-.94-.94-2.06-.94 2.06-2.06.94zm-11 1L8.5 8.5l.94-2.06 2.06-.94-2.06-.94L8.5 2.5l-.94 2.06-2.06.94zm10 10l.94 2.06.94-2.06 2.06-.94-2.06-.94-.94-2.06-.94 2.06-2.06.94z\"/><path d=\"M17.41 7.96l-1.37-1.37c-.4-.4-.92-.59-1.43-.59-.52 0-1.04.2-1.43.59L10.3 9.45l-7.72 7.72c-.78.78-.78 2.05 0 2.83L4 21.41c.39.39.9.59 1.41.59.51 0 1.02-.2 1.41-.59l7.78-7.78 2.81-2.81c.8-.78.8-2.07 0-2.86zM5.41 20L4 18.59l7.72-7.72 1.47 1.35L5.41 20z\"/>\n",
              "  </svg>\n",
              "      </button>\n",
              "      \n",
              "  <style>\n",
              "    .colab-df-container {\n",
              "      display:flex;\n",
              "      flex-wrap:wrap;\n",
              "      gap: 12px;\n",
              "    }\n",
              "\n",
              "    .colab-df-convert {\n",
              "      background-color: #E8F0FE;\n",
              "      border: none;\n",
              "      border-radius: 50%;\n",
              "      cursor: pointer;\n",
              "      display: none;\n",
              "      fill: #1967D2;\n",
              "      height: 32px;\n",
              "      padding: 0 0 0 0;\n",
              "      width: 32px;\n",
              "    }\n",
              "\n",
              "    .colab-df-convert:hover {\n",
              "      background-color: #E2EBFA;\n",
              "      box-shadow: 0px 1px 2px rgba(60, 64, 67, 0.3), 0px 1px 3px 1px rgba(60, 64, 67, 0.15);\n",
              "      fill: #174EA6;\n",
              "    }\n",
              "\n",
              "    [theme=dark] .colab-df-convert {\n",
              "      background-color: #3B4455;\n",
              "      fill: #D2E3FC;\n",
              "    }\n",
              "\n",
              "    [theme=dark] .colab-df-convert:hover {\n",
              "      background-color: #434B5C;\n",
              "      box-shadow: 0px 1px 3px 1px rgba(0, 0, 0, 0.15);\n",
              "      filter: drop-shadow(0px 1px 2px rgba(0, 0, 0, 0.3));\n",
              "      fill: #FFFFFF;\n",
              "    }\n",
              "  </style>\n",
              "\n",
              "      <script>\n",
              "        const buttonEl =\n",
              "          document.querySelector('#df-9a569486-2eb1-46ff-b32b-a8c3a5bfdf9a button.colab-df-convert');\n",
              "        buttonEl.style.display =\n",
              "          google.colab.kernel.accessAllowed ? 'block' : 'none';\n",
              "\n",
              "        async function convertToInteractive(key) {\n",
              "          const element = document.querySelector('#df-9a569486-2eb1-46ff-b32b-a8c3a5bfdf9a');\n",
              "          const dataTable =\n",
              "            await google.colab.kernel.invokeFunction('convertToInteractive',\n",
              "                                                     [key], {});\n",
              "          if (!dataTable) return;\n",
              "\n",
              "          const docLinkHtml = 'Like what you see? Visit the ' +\n",
              "            '<a target=\"_blank\" href=https://colab.research.google.com/notebooks/data_table.ipynb>data table notebook</a>'\n",
              "            + ' to learn more about interactive tables.';\n",
              "          element.innerHTML = '';\n",
              "          dataTable['output_type'] = 'display_data';\n",
              "          await google.colab.output.renderOutput(dataTable, element);\n",
              "          const docLink = document.createElement('div');\n",
              "          docLink.innerHTML = docLinkHtml;\n",
              "          element.appendChild(docLink);\n",
              "        }\n",
              "      </script>\n",
              "    </div>\n",
              "  </div>\n",
              "  "
            ]
          },
          "metadata": {},
          "execution_count": 68
        }
      ],
      "source": [
        "df.corr().abs()"
      ]
    },
    {
      "cell_type": "code",
      "execution_count": null,
      "metadata": {
        "id": "WwQpWHz8DtZQ",
        "colab": {
          "base_uri": "https://localhost:8080/",
          "height": 344
        },
        "outputId": "c0f63b94-34f5-4796-dd3f-2201334008f9"
      },
      "outputs": [
        {
          "output_type": "display_data",
          "data": {
            "text/plain": [
              "<Figure size 576x288 with 2 Axes>"
            ],
            "image/png": "[encoded data removed]"
          },
          "metadata": {
            "needs_background": "light"
          }
        }
      ],
      "source": [
        "plt.figure(figsize=(8,4))\n",
        "sns.heatmap(df.corr(), annot=True, cmap='cool')\n",
        "plt.show()"
      ]
    },
    {
      "cell_type": "markdown",
      "metadata": {
        "id": "uDiU3v-0DtZT"
      },
      "source": [
        "##sclaling nilai numerical"
      ]
    },
    {
      "cell_type": "code",
      "execution_count": null,
      "metadata": {
        "id": "Q0oVHpNuDtZU"
      },
      "outputs": [],
      "source": [
        "cols_to_scale = ['AccountWeeks', 'DataPlan', 'DataUsage',\n",
        "       'CustServCalls', 'DayMins', 'DayCalls', 'MonthlyCharge', 'OverageFee',\n",
        "       'RoamMins']\n",
        "\n",
        "from sklearn.preprocessing import MinMaxScaler\n",
        "scaler = MinMaxScaler()\n",
        "df[cols_to_scale] = scaler.fit_transform(df[cols_to_scale])"
      ]
    },
    {
      "cell_type": "code",
      "execution_count": null,
      "metadata": {
        "id": "R2azMVTWDtZV",
        "colab": {
          "base_uri": "https://localhost:8080/"
        },
        "outputId": "afbbfb3d-9e5a-4a68-813c-7bdd671d61cf"
      },
      "outputs": [
        {
          "output_type": "stream",
          "name": "stdout",
          "text": [
            "Churn: [0 1]\n",
            "AccountWeeks: [0.52479339 0.43801653 0.56198347 0.34297521 0.30578512 0.48347107\n",
            " 0.49586777 0.60330579 0.47933884 0.5785124  0.26446281 0.30165289\n",
            " 0.69008264 0.38842975 0.25206612 0.66115702 0.34710744 0.38016529\n",
            " 0.30991736 0.29752066 0.31404959 0.53305785 0.45454545 0.54132231\n",
            " 0.71487603 0.23140496 0.21900826 0.0785124  0.19834711 0.58264463\n",
            " 0.70661157 0.04545455 0.29338843 0.1446281  0.31818182 0.55785124\n",
            " 0.61157025 0.40082645 0.55371901 0.13636364 0.65702479 0.26033058\n",
            " 0.23966942 0.48760331 0.39669421 0.2107438  0.24380165 0.03719008\n",
            " 0.39256198 0.3553719  0.33057851 0.2768595  0.51239669 0.47520661\n",
            " 0.15289256 0.16115702 0.17355372 0.46280992 0.51652893 0.61570248\n",
            " 0.5661157  0.66528926 0.3677686  0.20247934 0.33471074 0.59090909\n",
            " 0.18595041 0.28512397 0.2231405  0.4338843  0.38429752 0.63636364\n",
            " 0.32644628 0.42561983 0.40495868 0.49173554 0.44214876 0.5\n",
            " 0.6446281  0.4214876  0.25619835 0.45867769 0.16528926 0.79338843\n",
            " 0.24793388 0.37603306 0.53719008 0.66942149 0.37190083 0.52066116\n",
            " 0.45041322 0.57438017 0.33884298 0.59504132 0.22727273 0.61983471\n",
            " 0.57024793 0.02066116 0.47107438 0.59917355 0.76033058 0.60743802\n",
            " 0.12809917 0.09917355 0.73553719 0.27272727 0.07438017 0.69834711\n",
            " 0.67355372 0.20661157 0.8553719  0.21487603 0.42975207 0.26859504\n",
            " 0.35123967 0.14049587 0.35950413 0.50413223 0.18181818 0.40909091\n",
            " 0.88429752 0.08677686 0.1322314  0.46694215 0.09504132 0.41322314\n",
            " 0.58677686 0.19421488 0.2892562  0.68595041 0.36363636 0.81818182\n",
            " 0.68181818 0.64876033 0.80578512 0.85950413 0.06198347 0.15702479\n",
            " 0.7107438  0.52892562 0.17768595 0.32231405 0.12396694 0.50826446\n",
            " 0.14876033 0.65289256 0.79752066 0.6322314  0.08264463 0.54545455\n",
            " 0.9214876  0.23553719 0.04132231 0.44628099 0.41735537 0.67768595\n",
            " 0.07024793 0.11983471 0.7231405  0.19008264 0.78099174 0.62396694\n",
            " 0.10330579 0.28099174 0.76446281 0.70247934 0.11157025 0.62809917\n",
            " 0.69421488 0.04958678 0.10743802 0.00826446 0.16942149 0.7768595\n",
            " 0.64049587 0.54958678 1.         0.09090909 0.         0.84297521\n",
            " 0.82231405 0.01652893 0.03305785 0.73140496 0.74380165 0.74793388\n",
            " 0.89256198 0.72727273 0.86363636 0.11570248 0.73966942 0.00413223\n",
            " 0.0661157  0.02479339 0.87190083 0.95454545 0.7892562  0.80165289\n",
            " 0.80991736 0.92561983 0.75619835 0.78512397 0.82644628 0.05785124\n",
            " 0.75206612 0.83057851 0.02892562 0.71900826 0.01239669 0.77272727\n",
            " 0.83884298 0.90909091]\n",
            "ContractRenewal: [1 0]\n",
            "DataPlan: [1. 0.]\n",
            "DataUsage: [0.5        0.68518519 0.         0.37592593 0.03518519 0.55925926\n",
            " 0.0537037  0.06296296 0.08148148 0.69074074 0.05740741 0.07222222\n",
            " 0.47592593 0.05925926 0.03888889 0.41481481 0.73518519 0.72592593\n",
            " 0.52592593 0.05555556 0.72962963 0.07037037 0.04444444 0.42592593\n",
            " 0.06481481 0.55       0.02037037 0.29074074 0.57962963 0.62962963\n",
            " 0.30925926 0.60555556 0.04814815 0.49074074 0.42962963 0.54444444\n",
            " 0.03148148 0.22037037 0.45       0.50555556 1.         0.35925926\n",
            " 0.07407407 0.32037037 0.26481481 0.50925926 0.34074074 0.55555556\n",
            " 0.47962963 0.64074074 0.52962963 0.02592593 0.04259259 0.49444444\n",
            " 0.05       0.04074074 0.06111111 0.65555556 0.53518519 0.60925926\n",
            " 0.66481481 0.59444444 0.0462963  0.59074074 0.69444444 0.05185185\n",
            " 0.70555556 0.33518519 0.09444444 0.57037037 0.42037037 0.22592593\n",
            " 0.4        0.32592593 0.07777778 0.02407407 0.77962963 0.51481481\n",
            " 0.03703704 0.48518519 0.38518519 0.37962963 0.25       0.47037037\n",
            " 0.64444444 0.35555556 0.7        0.03333333 0.45925926 0.6\n",
            " 0.07962963 0.18518519 0.08333333 0.06666667 0.8        0.46481481\n",
            " 0.56481481 0.61481481 0.31481481 0.71481481 0.02962963 0.3\n",
            " 0.85925926 0.74074074 0.29444444 0.32962963 0.87592593 0.39074074\n",
            " 0.27037037 0.70925926 0.45555556 0.77037037 0.82592593 0.65925926\n",
            " 0.36481481 0.44074074 0.20555556 0.24074074 0.06851852 0.77592593\n",
            " 0.81481481 0.02777778 0.52037037 0.37037037 0.82037037 0.63518519\n",
            " 0.67037037 0.40925926 0.75       0.75925926 0.67962963 0.79444444\n",
            " 0.62037037 0.40555556 0.80555556 0.58518519 0.44444444 0.43518519\n",
            " 0.27592593 0.84444444 0.25555556 0.08703704 0.54074074 0.78518519\n",
            " 0.67592593 0.34444444 0.65       0.19444444 0.39444444 0.08518519\n",
            " 0.07592593 0.72037037 0.62592593 0.57592593 0.27962963 0.28518519\n",
            " 0.35       0.20925926 0.02222222 0.75555556 0.19074074 0.30555556\n",
            " 0.87962963 0.24444444 0.76481481 0.23518519 0.21481481 0.85\n",
            " 0.74444444 0.82962963 0.14444444 0.25925926 0.12037037 0.12592593]\n",
            "CustServCalls: [0.11111111 0.         0.22222222 0.33333333 0.44444444 0.55555556\n",
            " 0.77777778 1.         0.66666667 0.88888889]\n",
            "DayMins: [0.75570125 0.46066135 0.69384265 ... 0.91533637 0.65877993 0.51539339]\n",
            "DayCalls: [0.66666667 0.74545455 0.69090909 0.43030303 0.68484848 0.59393939\n",
            " 0.53333333 0.47878788 0.58787879 0.50909091 0.83030303 0.76969697\n",
            " 0.58181818 0.42424242 0.40606061 0.84242424 0.4        0.54545455\n",
            " 0.70909091 0.53939394 0.67878788 0.62424242 0.52121212 0.46060606\n",
            " 0.6969697  0.44242424 0.66060606 0.57575758 0.63636364 0.73333333\n",
            " 0.71515152 0.56969697 0.48484848 0.77575758 0.38787879 0.64242424\n",
            " 0.61818182 0.51515152 0.4969697  0.46666667 0.72727273 0.80606061\n",
            " 0.81818182 0.65454545 0.34545455 0.5030303  0.78181818 0.55151515\n",
            " 0.55757576 0.44848485 0.56363636 0.61212121 0.88484848 0.43636364\n",
            " 0.6        0.63030303 0.75757576 0.36969697 0.60606061 0.52727273\n",
            " 0.79393939 0.39393939 0.75151515 0.72121212 0.31515152 0.41212121\n",
            " 0.64848485 0.28484848 0.7030303  0.91515152 0.76363636 0.73939394\n",
            " 0.67272727 0.87878788 0.47272727 0.82424242 0.84848485 0.8969697\n",
            " 0.49090909 0.33333333 0.41818182 0.95757576 0.81212121 0.78787879\n",
            " 0.38181818 0.32121212 0.45454545 0.85454545 0.98787879 0.35757576\n",
            " 0.8        0.83636364 0.32727273 0.35151515 0.37575758 0.87272727\n",
            " 0.86666667 0.89090909 0.21818182 0.24242424 0.90909091 0.33939394\n",
            " 0.30909091 1.         0.18181818 0.29090909 0.36363636 0.25454545\n",
            " 0.         0.27272727 0.96969697 0.9030303  0.92121212 0.86060606\n",
            " 0.94545455 0.21212121 0.2969697  0.95151515 0.26666667]\n",
            "MonthlyCharge: [0.77081192 0.69886948 0.39054471 0.44193217 0.27749229 0.75334018\n",
            " 0.22610483 0.51284687 0.81397739 0.31757451 0.36382323 0.17471737\n",
            " 0.3946557  0.33915725 0.71942446 0.83556012 0.38026721 0.65775951\n",
            " 0.37101747 0.12332991 0.24665982 0.21479959 0.21582734 0.31860226\n",
            " 0.66495375 0.23638232 0.45426516 0.27852004 0.1336074  0.43165468\n",
            " 0.25693731 0.51387461 0.56937307 0.83967112 0.65981501 0.28776978\n",
            " 0.672148   0.74409044 0.32887975 0.19321686 0.35354573 0.49331963\n",
            " 0.36998972 0.34429599 0.59301131 0.46454265 0.34943474 0.39157246\n",
            " 0.40184995 0.43884892 0.42137718 0.80472765 0.81603289 0.68859198\n",
            " 0.48304214 0.75745118 0.41109969 0.56628983 0.0626927  0.40698869\n",
            " 0.47276465 0.45220966 0.57245632 0.79650565 0.60842754 0.5385406\n",
            " 0.30524152 0.46248715 0.48201439 0.37410072 0.34840699 0.78417266\n",
            " 0.48818088 0.51695786 0.30832477 0.2672148  0.11305242 0.98663926\n",
            " 0.30729702 0.45323741 0.55909558 0.35971223 0.49640288 0.19527235\n",
            " 0.64439877 0.26824255 0.50668037 0.4008222  0.59815005 0.63206578\n",
            " 0.69270298 0.29804728 0.55087359 0.76053443 0.64748201 0.72970195\n",
            " 0.53340185 0.15416238 0.80883864 0.54779034 0.4717369  0.68448099\n",
            " 0.62281603 0.2713258  0.35251799 0.52415211 0.65467626 0.08221994\n",
            " 0.54162384 0.42548818 0.5344296  0.55395683 0.31551901 0.28263104\n",
            " 0.30010277 0.77800617 0.54881809 0.61973279 0.92805755 0.16443988\n",
            " 0.56217883 0.64645427 0.5950668  0.31963001 0.59095581 0.36176773\n",
            " 0.61562179 0.91366906 0.81294964 0.76772867 0.42651593 0.56834532\n",
            " 0.1963001  0.14491264 0.69784173 0.62178828 0.53134635 0.37821172\n",
            " 0.7307297  0.25590956 0.51490236 0.76875642 0.2692703  0.663926\n",
            " 0.57553957 0.47893114 0.40390545 0.70811922 0.71017472 0.42857143\n",
            " 0.61664954 0.67420349 0.14388489 0.55292909 0.54984584 0.39979445\n",
            " 0.33299075 0.58170606 0.28160329 0.56526208 0.71120247 0.26002055\n",
            " 0.52209661 0.49845838 0.68242549 0.59403905 0.35149024 0.48098664\n",
            " 0.74717369 0.44604317 0.49743063 0.55498458 0.50359712 0.77903392\n",
            " 0.57451182 0.58478931 0.64131552 0.17882837 0.41212744 0.7327852\n",
            " 0.24460432 0.56320658 0.52106886 0.63103803 0.668037   0.22816033\n",
            " 0.47070915 0.36896197 0.31140802 0.42446043 0.31654676 0.58581706\n",
            " 0.32476876 0.44912641 0.70092497 0.5323741  0.60020555 0.327852\n",
            " 0.22404933 0.54470709 0.72147996 0.70709147 0.67317575 0.50256937\n",
            " 0.4614594  0.78314491 0.69064748 0.5364851  0.47687564 0.21685509\n",
            " 0.67831449 0.74511819 0.84892086 0.38643371 0.55704008 0.62692703\n",
            " 0.70298047 0.36793422 0.89825283 0.20554985 0.10277492 0.47995889\n",
            " 0.85303186 0.47790339 0.42240493 0.34018499 0.70195272 0.62795478\n",
            " 0.26618705 0.63514902 0.61459404 0.90236382 0.68139774 0.40596095\n",
            " 0.75847893 0.07194245 0.45015416 0.11819116 0.38129496 0.29701953\n",
            " 0.54573484 0.74922919 0.3967112  0.48509764 0.67625899 0.47379239\n",
            " 0.88694758 0.63823227 0.41007194 0.60739979 0.58992806 0.69475848\n",
            " 0.23946557 0.70503597 0.91058582 0.54676259 0.72250771 0.53751285\n",
            " 0.96916752 0.42754368 0.94141829 0.69373073 0.30113052 0.43371017\n",
            " 0.70606372 0.6659815  0.38746146 0.63720452 0.3987667  0.80781089\n",
            " 0.67523124 0.56115108 0.57348407 0.65364851 0.336074   0.52517986\n",
            " 0.58067831 0.80986639 0.7995889  0.90030832 0.27646454 0.81089414\n",
            " 0.58684481 0.34224049 0.3340185  0.39362795 0.2610483  0.32065776\n",
            " 0.93216855 0.52004111 0.36279548 0.26207605 0.5971223  0.56012333\n",
            " 0.45837616 0.42034943 0.16546763 0.55190134 0.46659815 0.85611511\n",
            " 0.73175745 0.72764645 0.54265159 0.67112025 0.80678314 0.82733813\n",
            " 0.81192189 0.43782117 0.73381295 0.72661871 0.16238438 0.78211716\n",
            " 0.83658787 0.68756423 0.64234327 0.37923947 0.61151079 0.5991778\n",
            " 0.60637205 0.09249743 0.45118191 0.88900308 0.71325797 0.8016444\n",
            " 0.79136691 0.60226105 0.85200411 0.43679342 0.41418294 0.35457348\n",
            " 0.84172662 0.68345324 0.27338129 0.63309353 0.28571429 0.52312436\n",
            " 0.78725591 0.18705036 0.23535457 0.60431655 0.20760534 0.41726619\n",
            " 0.62384378 0.38232271 0.56731757 0.58787256 0.39773895 0.77286742\n",
            " 0.40801644 0.57759507 0.78520041 0.75539568 0.38848921 0.43062693\n",
            " 0.29393628 0.6032888  0.56423433 0.52929085 0.22302158 0.79239466\n",
            " 0.45529291 0.43576567 0.57656732 0.68036999 0.25282631 0.34121274\n",
            " 0.89619733 0.69989723 0.42343268 0.62076053 0.90955807 0.45940391\n",
            " 0.49434738 0.38335046 0.3299075  0.4696814  0.7368962  0.75950668\n",
            " 0.37204522 0.77697842 0.28982528 0.2631038  0.77389517 0.34532374\n",
            " 0.37512847 0.20349435 0.90544707 0.78931141 0.39260021 0.32168551\n",
            " 0.24254882 0.81808839 0.77183967 0.92394656 0.66084275 0.75642343\n",
            " 0.63617677 0.48920863 0.86947585 0.25899281 0.41829394 0.6700925\n",
            " 0.63001028 0.58890031 0.44090442 0.61870504 0.18499486 0.57040082\n",
            " 0.62898253 0.50154162 0.71531346 0.28674203 0.65673176 0.70400822\n",
            " 0.26413155 0.4655704  0.39568345 0.64542652 0.331963   0.42959918\n",
            " 0.57862282 0.4049332  0.51181912 0.81911614 0.69167523 0.44501542\n",
            " 0.28468654 0.74100719 0.1983556  0.34326824 0.44398767 0.76258993\n",
            " 0.24357657 0.18396711 0.         0.33504625 0.97327852 0.21788284\n",
            " 0.71428571 0.59609455 0.55601233 0.11921891 0.49537513 0.64850976\n",
            " 0.06166495 0.61356629 0.80267215 0.31243577 0.53956835 0.65262076\n",
            " 0.75231244 0.74820144 0.35046249 0.6053443  0.19732785 0.83864337\n",
            " 0.23432682 0.22096608 0.75025694 0.61253854 0.59198356 0.68653649\n",
            " 0.24871531 0.48406989 0.2651593  0.30215827 0.05138746 0.4676259\n",
            " 0.35868448 0.35560123 0.16855087 0.71634121 0.67934224 0.81500514\n",
            " 0.85919836 0.82836588 0.76567318 0.32271326 0.62487153 0.68961973\n",
            " 0.78622816 0.91983556 0.79033916 0.54367934 0.66700925 0.51798561\n",
            " 0.7934224  0.77595067 0.73586845 0.28365879 0.62589928 0.5282631\n",
            " 0.71736896 0.43473792 0.46043165 0.61767729 0.49126413 0.69681398\n",
            " 0.79856115 0.51901336 0.82014388 0.63412127 0.97225077 0.50976362\n",
            " 0.6012333  0.34737924 0.22713258 0.25796506 0.53545735 0.73997945\n",
            " 0.32682425 0.72045221 0.01747174 0.33093525 0.40904419 0.50873587\n",
            " 0.68550874 0.74614594 0.47584789 0.81706064 1.         0.09044193\n",
            " 0.58273381 0.36073998 0.43987667 0.84583762 0.21377184 0.44809866\n",
            " 0.18293936 0.36587873 0.83761562 0.71839671 0.21171634 0.75128469\n",
            " 0.66906475 0.89928058 0.31038027 0.41521069 0.83144913 0.03083248\n",
            " 0.4635149  0.74306269 0.41932169 0.84480987 0.11510791 0.84789311\n",
            " 0.32579651 0.37307297 0.38951696 0.29907503 0.28879753 0.29290853\n",
            " 0.72456321 0.29188078 0.17780062 0.18602261 0.57142857 0.23227133\n",
            " 0.92291881 0.83453237 0.34635149 0.60945529 0.64953751 0.27235355\n",
            " 0.27543679 0.67728674 0.37718397 0.18191161 0.36690647 0.43268243\n",
            " 0.23843782 0.80061665 0.25077081 0.70914697 0.65159301 0.31449126\n",
            " 0.91572456 0.54059609 0.85405961 0.33710175 0.30935252 0.93422405\n",
            " 0.76156218 0.52620761 0.72559096 0.78108941 0.7286742  0.02055498\n",
            " 0.22918808 0.9373073  0.27029805 0.66289825 0.71223022 0.95477903\n",
            " 0.15827338 0.16032888 0.82219938 0.8057554  0.52723535 0.27954779\n",
            " 0.3381295  0.44295992 0.45632066 0.61048304 0.20966084 0.4028777\n",
            " 0.36485098 0.29599178 0.75436793 0.58376156 0.14799589 0.19218911\n",
            " 0.21068859 0.5303186  0.50462487 0.25179856 0.64337102 0.38437821\n",
            " 0.65570401 0.89003083 0.14182939 0.74203494 0.82939363 0.48612539\n",
            " 0.32374101 0.63926002 0.88386434]\n",
            "OverageFee: [0.54260583 0.53765805 0.33315008 ... 0.82627817 0.23364486 0.73117097]\n",
            "RoamMins: [0.5   0.685 0.61  0.33  0.505 0.315 0.375 0.355 0.435 0.56  0.635 0.455\n",
            " 0.615 0.655 0.27  0.69  0.405 0.65  0.53  0.285 0.475 0.385 0.515 0.775\n",
            " 0.735 0.555 0.71  0.63  0.59  0.415 0.725 0.525 0.47  0.73  0.46  0.175\n",
            " 0.425 0.66  0.37  0.44  0.55  0.39  0.34  0.57  0.465 0.485 0.51  0.4\n",
            " 0.29  0.605 0.6   0.58  0.41  0.31  0.365 0.305 0.585 0.75  0.49  0.62\n",
            " 0.43  0.545 0.695 0.445 0.395 0.265 0.22  0.625 0.565 0.45  0.48  0.665\n",
            " 1.    0.36  0.32  0.705 0.715 0.345 0.575 0.79  0.64  0.81  0.    0.595\n",
            " 0.495 0.42  0.54  0.67  0.535 0.88  0.235 0.135 0.675 0.645 0.72  0.52\n",
            " 0.335 0.77  0.225 0.325 0.78  0.295 0.945 0.38  0.25  0.35  0.7   0.9\n",
            " 0.8   0.74  0.185 0.1   0.24  0.765 0.3   0.68  0.86  0.875 0.28  0.91\n",
            " 0.18  0.825 0.23  0.255 0.205 0.815 0.745 0.82  0.835 0.065 0.76  0.755\n",
            " 0.795 0.275 0.805 0.2   0.845 0.26  0.21  0.785 0.85  0.195 0.19  0.11\n",
            " 0.855 0.245 0.895 0.865 0.92  0.89  0.215 0.145 0.155 0.165 0.13  0.17\n",
            " 0.055 0.915 0.83  0.105 0.12  0.125]\n"
          ]
        }
      ],
      "source": [
        "for col in df:\n",
        "    print(f'{col}: {df[col].unique()}')"
      ]
    },
    {
      "cell_type": "code",
      "source": [
        "df['Churn'].value_counts()"
      ],
      "metadata": {
        "colab": {
          "base_uri": "https://localhost:8080/"
        },
        "id": "ciRVwBvEwiI3",
        "outputId": "755e1472-0022-43bd-912c-f26ffee207c1"
      },
      "execution_count": null,
      "outputs": [
        {
          "output_type": "execute_result",
          "data": {
            "text/plain": [
              "0    2850\n",
              "1     483\n",
              "Name: Churn, dtype: int64"
            ]
          },
          "metadata": {},
          "execution_count": 72
        }
      ]
    },
    {
      "cell_type": "code",
      "source": [
        "plt.figure(figsize = (10,5))\n",
        "sns.countplot(x = df['Churn'], data = df)\n",
        "plt.title('Checking imbalance ratio of Churn variable')\n",
        "plt.show()"
      ],
      "metadata": {
        "colab": {
          "base_uri": "https://localhost:8080/",
          "height": 350
        },
        "id": "8jeoALaXxTR_",
        "outputId": "2ae7070b-c3a2-4943-b3aa-2569b70ad200"
      },
      "execution_count": null,
      "outputs": [
        {
          "output_type": "display_data",
          "data": {
            "text/plain": [
              "<Figure size 720x360 with 1 Axes>"
            ],
            "image/png": "[encoded data removed]"
          },
          "metadata": {
            "needs_background": "light"
          }
        }
      ]
    },
    {
      "cell_type": "markdown",
      "metadata": {
        "id": "uUSXo9CGDtZX"
      },
      "source": [
        "# Train test split"
      ]
    },
    {
      "cell_type": "code",
      "execution_count": null,
      "metadata": {
        "id": "DvkzhK6aDtZY"
      },
      "outputs": [],
      "source": [
        "X = df.drop('Churn',axis='columns')\n",
        "y = df['Churn']\n",
        "\n",
        "from sklearn.model_selection import train_test_split\n",
        "X_train, X_test, y_train, y_test = train_test_split(X,y,test_size=0.2,random_state=5)"
      ]
    },
    {
      "cell_type": "code",
      "execution_count": null,
      "metadata": {
        "id": "t1Iz35XuDtZZ",
        "colab": {
          "base_uri": "https://localhost:8080/"
        },
        "outputId": "aab1d33e-cef6-4cf3-a1a0-7b85039f86f9"
      },
      "outputs": [
        {
          "output_type": "execute_result",
          "data": {
            "text/plain": [
              "(2666, 10)"
            ]
          },
          "metadata": {},
          "execution_count": 75
        }
      ],
      "source": [
        "X_train.shape"
      ]
    },
    {
      "cell_type": "code",
      "execution_count": null,
      "metadata": {
        "id": "nRUVUrbsDtZa",
        "colab": {
          "base_uri": "https://localhost:8080/"
        },
        "outputId": "53e3173a-1e7c-4d22-abfe-6eb9c34d9235"
      },
      "outputs": [
        {
          "output_type": "execute_result",
          "data": {
            "text/plain": [
              "(667, 10)"
            ]
          },
          "metadata": {},
          "execution_count": 76
        }
      ],
      "source": [
        "X_test.shape"
      ]
    },
    {
      "cell_type": "code",
      "execution_count": null,
      "metadata": {
        "id": "xRpmV_qwDtZa",
        "colab": {
          "base_uri": "https://localhost:8080/",
          "height": 363
        },
        "outputId": "0cdc12ed-46d3-490a-c2b4-2e5c1ab402d2"
      },
      "outputs": [
        {
          "output_type": "execute_result",
          "data": {
            "text/plain": [
              "      AccountWeeks  ContractRenewal  DataPlan  DataUsage  CustServCalls  \\\n",
              "1286      0.438017                1       1.0   0.375926       0.111111   \n",
              "1765      0.454545                1       0.0   0.000000       0.444444   \n",
              "2961      0.400826                1       1.0   0.400000       0.666667   \n",
              "1271      0.330579                0       1.0   0.394444       0.111111   \n",
              "869       0.520661                0       0.0   0.048148       0.222222   \n",
              "437       0.409091                1       0.0   0.059259       0.000000   \n",
              "2197      0.545455                1       0.0   0.000000       0.222222   \n",
              "519       0.165289                1       0.0   0.038889       0.333333   \n",
              "2669      0.595041                1       0.0   0.000000       0.222222   \n",
              "2078      0.409091                1       0.0   0.000000       0.111111   \n",
              "\n",
              "       DayMins  DayCalls  MonthlyCharge  OverageFee  RoamMins  \n",
              "1286  0.325827  0.800000       0.445015    0.549203     0.375  \n",
              "1765  0.377993  0.757576       0.287770    0.608026     0.635  \n",
              "2961  0.478905  0.490909       0.520041    0.448598     0.400  \n",
              "1271  0.675884  0.460606       0.722508    0.726223     0.395  \n",
              "869   0.515678  0.690909       0.386434    0.576141     0.370  \n",
              "437   0.792474  0.460606       0.536485    0.485981     0.415  \n",
              "2197  0.616306  0.406061       0.431655    0.610775     0.155  \n",
              "519   0.578392  0.587879       0.371017    0.422760     0.450  \n",
              "2669  0.368871  0.587879       0.246660    0.509621     0.055  \n",
              "2078  0.373717  0.654545       0.246660    0.484332     0.215  "
            ],
            "text/html": [
              "\n",
              "  <div id=\"df-062158da-60e5-4df0-8b5f-4547f8a40717\">\n",
              "    <div class=\"colab-df-container\">\n",
              "      <div>\n",
              "<style scoped>\n",
              "    .dataframe tbody tr th:only-of-type {\n",
              "        vertical-align: middle;\n",
              "    }\n",
              "\n",
              "    .dataframe tbody tr th {\n",
              "        vertical-align: top;\n",
              "    }\n",
              "\n",
              "    .dataframe thead th {\n",
              "        text-align: right;\n",
              "    }\n",
              "</style>\n",
              "<table border=\"1\" class=\"dataframe\">\n",
              "  <thead>\n",
              "    <tr style=\"text-align: right;\">\n",
              "      <th></th>\n",
              "      <th>AccountWeeks</th>\n",
              "      <th>ContractRenewal</th>\n",
              "      <th>DataPlan</th>\n",
              "      <th>DataUsage</th>\n",
              "      <th>CustServCalls</th>\n",
              "      <th>DayMins</th>\n",
              "      <th>DayCalls</th>\n",
              "      <th>MonthlyCharge</th>\n",
              "      <th>OverageFee</th>\n",
              "      <th>RoamMins</th>\n",
              "    </tr>\n",
              "  </thead>\n",
              "  <tbody>\n",
              "    <tr>\n",
              "      <th>1286</th>\n",
              "      <td>0.438017</td>\n",
              "      <td>1</td>\n",
              "      <td>1.0</td>\n",
              "      <td>0.375926</td>\n",
              "      <td>0.111111</td>\n",
              "      <td>0.325827</td>\n",
              "      <td>0.800000</td>\n",
              "      <td>0.445015</td>\n",
              "      <td>0.549203</td>\n",
              "      <td>0.375</td>\n",
              "    </tr>\n",
              "    <tr>\n",
              "      <th>1765</th>\n",
              "      <td>0.454545</td>\n",
              "      <td>1</td>\n",
              "      <td>0.0</td>\n",
              "      <td>0.000000</td>\n",
              "      <td>0.444444</td>\n",
              "      <td>0.377993</td>\n",
              "      <td>0.757576</td>\n",
              "      <td>0.287770</td>\n",
              "      <td>0.608026</td>\n",
              "      <td>0.635</td>\n",
              "    </tr>\n",
              "    <tr>\n",
              "      <th>2961</th>\n",
              "      <td>0.400826</td>\n",
              "      <td>1</td>\n",
              "      <td>1.0</td>\n",
              "      <td>0.400000</td>\n",
              "      <td>0.666667</td>\n",
              "      <td>0.478905</td>\n",
              "      <td>0.490909</td>\n",
              "      <td>0.520041</td>\n",
              "      <td>0.448598</td>\n",
              "      <td>0.400</td>\n",
              "    </tr>\n",
              "    <tr>\n",
              "      <th>1271</th>\n",
              "      <td>0.330579</td>\n",
              "      <td>0</td>\n",
              "      <td>1.0</td>\n",
              "      <td>0.394444</td>\n",
              "      <td>0.111111</td>\n",
              "      <td>0.675884</td>\n",
              "      <td>0.460606</td>\n",
              "      <td>0.722508</td>\n",
              "      <td>0.726223</td>\n",
              "      <td>0.395</td>\n",
              "    </tr>\n",
              "    <tr>\n",
              "      <th>869</th>\n",
              "      <td>0.520661</td>\n",
              "      <td>0</td>\n",
              "      <td>0.0</td>\n",
              "      <td>0.048148</td>\n",
              "      <td>0.222222</td>\n",
              "      <td>0.515678</td>\n",
              "      <td>0.690909</td>\n",
              "      <td>0.386434</td>\n",
              "      <td>0.576141</td>\n",
              "      <td>0.370</td>\n",
              "    </tr>\n",
              "    <tr>\n",
              "      <th>437</th>\n",
              "      <td>0.409091</td>\n",
              "      <td>1</td>\n",
              "      <td>0.0</td>\n",
              "      <td>0.059259</td>\n",
              "      <td>0.000000</td>\n",
              "      <td>0.792474</td>\n",
              "      <td>0.460606</td>\n",
              "      <td>0.536485</td>\n",
              "      <td>0.485981</td>\n",
              "      <td>0.415</td>\n",
              "    </tr>\n",
              "    <tr>\n",
              "      <th>2197</th>\n",
              "      <td>0.545455</td>\n",
              "      <td>1</td>\n",
              "      <td>0.0</td>\n",
              "      <td>0.000000</td>\n",
              "      <td>0.222222</td>\n",
              "      <td>0.616306</td>\n",
              "      <td>0.406061</td>\n",
              "      <td>0.431655</td>\n",
              "      <td>0.610775</td>\n",
              "      <td>0.155</td>\n",
              "    </tr>\n",
              "    <tr>\n",
              "      <th>519</th>\n",
              "      <td>0.165289</td>\n",
              "      <td>1</td>\n",
              "      <td>0.0</td>\n",
              "      <td>0.038889</td>\n",
              "      <td>0.333333</td>\n",
              "      <td>0.578392</td>\n",
              "      <td>0.587879</td>\n",
              "      <td>0.371017</td>\n",
              "      <td>0.422760</td>\n",
              "      <td>0.450</td>\n",
              "    </tr>\n",
              "    <tr>\n",
              "      <th>2669</th>\n",
              "      <td>0.595041</td>\n",
              "      <td>1</td>\n",
              "      <td>0.0</td>\n",
              "      <td>0.000000</td>\n",
              "      <td>0.222222</td>\n",
              "      <td>0.368871</td>\n",
              "      <td>0.587879</td>\n",
              "      <td>0.246660</td>\n",
              "      <td>0.509621</td>\n",
              "      <td>0.055</td>\n",
              "    </tr>\n",
              "    <tr>\n",
              "      <th>2078</th>\n",
              "      <td>0.409091</td>\n",
              "      <td>1</td>\n",
              "      <td>0.0</td>\n",
              "      <td>0.000000</td>\n",
              "      <td>0.111111</td>\n",
              "      <td>0.373717</td>\n",
              "      <td>0.654545</td>\n",
              "      <td>0.246660</td>\n",
              "      <td>0.484332</td>\n",
              "      <td>0.215</td>\n",
              "    </tr>\n",
              "  </tbody>\n",
              "</table>\n",
              "</div>\n",
              "      <button class=\"colab-df-convert\" onclick=\"convertToInteractive('df-062158da-60e5-4df0-8b5f-4547f8a40717')\"\n",
              "              title=\"Convert this dataframe to an interactive table.\"\n",
              "              style=\"display:none;\">\n",
              "        \n",
              "  <svg xmlns=\"http://www.w3.org/2000/svg\" height=\"24px\"viewBox=\"0 0 24 24\"\n",
              "       width=\"24px\">\n",
              "    <path d=\"M0 0h24v24H0V0z\" fill=\"none\"/>\n",
              "    <path d=\"M18.56 5.44l.94 2.06.94-2.06 2.06-.94-2.06-.94-.94-2.06-.94 2.06-2.06.94zm-11 1L8.5 8.5l.94-2.06 2.06-.94-2.06-.94L8.5 2.5l-.94 2.06-2.06.94zm10 10l.94 2.06.94-2.06 2.06-.94-2.06-.94-.94-2.06-.94 2.06-2.06.94z\"/><path d=\"M17.41 7.96l-1.37-1.37c-.4-.4-.92-.59-1.43-.59-.52 0-1.04.2-1.43.59L10.3 9.45l-7.72 7.72c-.78.78-.78 2.05 0 2.83L4 21.41c.39.39.9.59 1.41.59.51 0 1.02-.2 1.41-.59l7.78-7.78 2.81-2.81c.8-.78.8-2.07 0-2.86zM5.41 20L4 18.59l7.72-7.72 1.47 1.35L5.41 20z\"/>\n",
              "  </svg>\n",
              "      </button>\n",
              "      \n",
              "  <style>\n",
              "    .colab-df-container {\n",
              "      display:flex;\n",
              "      flex-wrap:wrap;\n",
              "      gap: 12px;\n",
              "    }\n",
              "\n",
              "    .colab-df-convert {\n",
              "      background-color: #E8F0FE;\n",
              "      border: none;\n",
              "      border-radius: 50%;\n",
              "      cursor: pointer;\n",
              "      display: none;\n",
              "      fill: #1967D2;\n",
              "      height: 32px;\n",
              "      padding: 0 0 0 0;\n",
              "      width: 32px;\n",
              "    }\n",
              "\n",
              "    .colab-df-convert:hover {\n",
              "      background-color: #E2EBFA;\n",
              "      box-shadow: 0px 1px 2px rgba(60, 64, 67, 0.3), 0px 1px 3px 1px rgba(60, 64, 67, 0.15);\n",
              "      fill: #174EA6;\n",
              "    }\n",
              "\n",
              "    [theme=dark] .colab-df-convert {\n",
              "      background-color: #3B4455;\n",
              "      fill: #D2E3FC;\n",
              "    }\n",
              "\n",
              "    [theme=dark] .colab-df-convert:hover {\n",
              "      background-color: #434B5C;\n",
              "      box-shadow: 0px 1px 3px 1px rgba(0, 0, 0, 0.15);\n",
              "      filter: drop-shadow(0px 1px 2px rgba(0, 0, 0, 0.3));\n",
              "      fill: #FFFFFF;\n",
              "    }\n",
              "  </style>\n",
              "\n",
              "      <script>\n",
              "        const buttonEl =\n",
              "          document.querySelector('#df-062158da-60e5-4df0-8b5f-4547f8a40717 button.colab-df-convert');\n",
              "        buttonEl.style.display =\n",
              "          google.colab.kernel.accessAllowed ? 'block' : 'none';\n",
              "\n",
              "        async function convertToInteractive(key) {\n",
              "          const element = document.querySelector('#df-062158da-60e5-4df0-8b5f-4547f8a40717');\n",
              "          const dataTable =\n",
              "            await google.colab.kernel.invokeFunction('convertToInteractive',\n",
              "                                                     [key], {});\n",
              "          if (!dataTable) return;\n",
              "\n",
              "          const docLinkHtml = 'Like what you see? Visit the ' +\n",
              "            '<a target=\"_blank\" href=https://colab.research.google.com/notebooks/data_table.ipynb>data table notebook</a>'\n",
              "            + ' to learn more about interactive tables.';\n",
              "          element.innerHTML = '';\n",
              "          dataTable['output_type'] = 'display_data';\n",
              "          await google.colab.output.renderOutput(dataTable, element);\n",
              "          const docLink = document.createElement('div');\n",
              "          docLink.innerHTML = docLinkHtml;\n",
              "          element.appendChild(docLink);\n",
              "        }\n",
              "      </script>\n",
              "    </div>\n",
              "  </div>\n",
              "  "
            ]
          },
          "metadata": {},
          "execution_count": 77
        }
      ],
      "source": [
        "X_train[:10]"
      ]
    },
    {
      "cell_type": "code",
      "execution_count": null,
      "metadata": {
        "id": "zg1qCRBRDtZc",
        "colab": {
          "base_uri": "https://localhost:8080/"
        },
        "outputId": "0acef523-ab21-44c5-df7b-678f4db28801"
      },
      "outputs": [
        {
          "output_type": "execute_result",
          "data": {
            "text/plain": [
              "10"
            ]
          },
          "metadata": {},
          "execution_count": 78
        }
      ],
      "source": [
        "len(X_train.columns)"
      ]
    },
    {
      "cell_type": "markdown",
      "metadata": {
        "id": "HvE825UNDtZd"
      },
      "source": [
        "# Build a model (ANN) in tensorflow/keras"
      ]
    },
    {
      "cell_type": "markdown",
      "source": [
        "epoch = 1 kali ann melakukan forward dan bacward propagation\n",
        "\n",
        "learning rate = \n",
        "\n",
        "bach size = berapa data yang di gunakan dala satu proses biasanya makin besar ukuran bach makin cepat perhitungan namun makan banyak memori"
      ],
      "metadata": {
        "id": "EPRWyWErHh39"
      }
    },
    {
      "cell_type": "code",
      "execution_count": null,
      "metadata": {
        "id": "t8IUVdQTDtZe"
      },
      "outputs": [],
      "source": [
        "import tensorflow as tf\n",
        "from tensorflow import keras\n",
        "\n",
        "\n",
        "model = keras.Sequential([\n",
        "    keras.layers.Dense(10, input_shape=(10,), activation='relu'),\n",
        "    keras.layers.Dense(5, activation='relu'),\n",
        "    keras.layers.Dense(1, activation='sigmoid')\n",
        "])\n",
        "\n"
      ]
    },
    {
      "cell_type": "code",
      "source": [
        "model.summary()"
      ],
      "metadata": {
        "id": "hwZPEFSPX5sA",
        "colab": {
          "base_uri": "https://localhost:8080/"
        },
        "outputId": "cb7a64c7-4f49-47c7-e9e5-ca22ece778e3"
      },
      "execution_count": null,
      "outputs": [
        {
          "output_type": "stream",
          "name": "stdout",
          "text": [
            "Model: \"sequential_1\"\n",
            "_________________________________________________________________\n",
            " Layer (type)                Output Shape              Param #   \n",
            "=================================================================\n",
            " dense_3 (Dense)             (None, 10)                110       \n",
            "                                                                 \n",
            " dense_4 (Dense)             (None, 5)                 55        \n",
            "                                                                 \n",
            " dense_5 (Dense)             (None, 1)                 6         \n",
            "                                                                 \n",
            "=================================================================\n",
            "Total params: 171\n",
            "Trainable params: 171\n",
            "Non-trainable params: 0\n",
            "_________________________________________________________________\n"
          ]
        }
      ]
    },
    {
      "cell_type": "code",
      "source": [
        "model.layers"
      ],
      "metadata": {
        "colab": {
          "base_uri": "https://localhost:8080/"
        },
        "id": "uqcHttIY2WFM",
        "outputId": "2b6d9f3e-6a30-4084-c89e-2681c3d77656"
      },
      "execution_count": null,
      "outputs": [
        {
          "output_type": "execute_result",
          "data": {
            "text/plain": [
              "[<keras.layers.core.dense.Dense at 0x7f6377a5bc70>,\n",
              " <keras.layers.core.dense.Dense at 0x7f6377a5bfd0>,\n",
              " <keras.layers.core.dense.Dense at 0x7f6377a5bd30>]"
            ]
          },
          "metadata": {},
          "execution_count": 81
        }
      ]
    },
    {
      "cell_type": "code",
      "source": [
        "model.layers[0]"
      ],
      "metadata": {
        "colab": {
          "base_uri": "https://localhost:8080/"
        },
        "id": "CCvZ2qEv2Yt1",
        "outputId": "19739d7f-dba3-478d-9d93-6c10f82290b6"
      },
      "execution_count": null,
      "outputs": [
        {
          "output_type": "execute_result",
          "data": {
            "text/plain": [
              "<keras.layers.core.dense.Dense at 0x7f6377a5bc70>"
            ]
          },
          "metadata": {},
          "execution_count": 82
        }
      ]
    },
    {
      "cell_type": "code",
      "source": [
        "w,b = model.layers[0].get_weights()\n",
        "print(w)"
      ],
      "metadata": {
        "colab": {
          "base_uri": "https://localhost:8080/"
        },
        "id": "CVpvxRdZ24ST",
        "outputId": "da2ec749-41ef-45f5-e3e2-9e36d7c44f0c"
      },
      "execution_count": null,
      "outputs": [
        {
          "output_type": "stream",
          "name": "stdout",
          "text": [
            "[[ 0.5141281   0.04453403 -0.15635014 -0.03604245  0.3875432   0.06193089\n",
            "   0.36941445  0.3815105   0.50324965 -0.12619689]\n",
            " [ 0.44264764 -0.03843707 -0.5376512  -0.53083205 -0.4984725   0.20055628\n",
            "   0.32444036  0.45009857  0.2092585   0.04768288]\n",
            " [-0.34479353 -0.49763793 -0.1881074  -0.26690844  0.5352241   0.38814783\n",
            "  -0.30916083  0.308554   -0.01059622 -0.34092972]\n",
            " [-0.09591541 -0.11700082  0.3424052  -0.442618   -0.5304144   0.36656415\n",
            "   0.17330676  0.09921366  0.49071097  0.06420594]\n",
            " [ 0.16473669  0.48562777  0.14292186 -0.36348253 -0.26634234  0.18579769\n",
            "  -0.5222304   0.09153771  0.04087353 -0.1956138 ]\n",
            " [ 0.23762435 -0.3437034   0.46669686  0.42796558 -0.20418137 -0.24100554\n",
            "  -0.2551271  -0.31420112  0.35731006  0.29080564]\n",
            " [ 0.37696946  0.1899808  -0.2894453  -0.04939526 -0.2294128  -0.40859377\n",
            "  -0.32482833  0.27397335 -0.14419886  0.33712673]\n",
            " [-0.2680187   0.1539343  -0.14333126 -0.3295194   0.07591271 -0.13696003\n",
            "   0.3775363  -0.24729124  0.4008938   0.33319724]\n",
            " [ 0.01895136  0.07123548 -0.3531993  -0.21642914 -0.23394781  0.2352289\n",
            "  -0.4146577  -0.4128654   0.3662365   0.32139242]\n",
            " [-0.38571566 -0.20466965  0.39087296  0.30108953 -0.44376874  0.37260103\n",
            "  -0.5119884  -0.3521887   0.5073967   0.24514884]]\n"
          ]
        }
      ]
    },
    {
      "cell_type": "code",
      "source": [
        "w,b = model.layers[1].get_weights()"
      ],
      "metadata": {
        "id": "nWS1xEBh2eXY"
      },
      "execution_count": null,
      "outputs": []
    },
    {
      "cell_type": "code",
      "source": [
        "print(w)\n"
      ],
      "metadata": {
        "colab": {
          "base_uri": "https://localhost:8080/"
        },
        "id": "WLz3rx8e2pmT",
        "outputId": "60546a56-b892-454c-afeb-4c0738682f66"
      },
      "execution_count": null,
      "outputs": [
        {
          "output_type": "stream",
          "name": "stdout",
          "text": [
            "[[ 0.2529506  -0.53400093  0.35794133 -0.23487657 -0.3916406 ]\n",
            " [-0.16875386  0.60427874  0.2587118  -0.4560639   0.09422874]\n",
            " [-0.25261903  0.01875287  0.6310547  -0.51919234 -0.3330842 ]\n",
            " [ 0.5648287  -0.04735535 -0.15219179 -0.1164006   0.43097228]\n",
            " [ 0.60690194 -0.1715875   0.07487226  0.11326241 -0.08605266]\n",
            " [-0.11023712 -0.10606104 -0.5174322  -0.02522022  0.18802488]\n",
            " [ 0.30099612 -0.3151148  -0.29879743  0.33787388  0.53262466]\n",
            " [ 0.3940335  -0.22854042  0.05603009  0.6064605   0.01597762]\n",
            " [ 0.13311261  0.37863618  0.45408493 -0.32165918 -0.6166691 ]\n",
            " [ 0.30732667 -0.03531861  0.26142251  0.13532197  0.20834142]]\n"
          ]
        }
      ]
    },
    {
      "cell_type": "code",
      "source": [
        "print(b)"
      ],
      "metadata": {
        "colab": {
          "base_uri": "https://localhost:8080/"
        },
        "id": "IpVNIQkA2v9N",
        "outputId": "28e08846-c6a3-4c97-8de4-d52ee0457c0b"
      },
      "execution_count": null,
      "outputs": [
        {
          "output_type": "stream",
          "name": "stdout",
          "text": [
            "[0. 0. 0. 0. 0.]\n"
          ]
        }
      ]
    },
    {
      "cell_type": "code",
      "source": [
        "w,b = model.layers[2].get_weights()\n",
        "print(w)"
      ],
      "metadata": {
        "colab": {
          "base_uri": "https://localhost:8080/"
        },
        "id": "9IgEW_XYZ9Zw",
        "outputId": "70426dbd-91ad-4de0-a7de-b15b5321f3da"
      },
      "execution_count": null,
      "outputs": [
        {
          "output_type": "stream",
          "name": "stdout",
          "text": [
            "[[-0.4812684 ]\n",
            " [-0.9530444 ]\n",
            " [ 0.32616258]\n",
            " [-0.17764187]\n",
            " [ 0.8967445 ]]\n"
          ]
        }
      ]
    },
    {
      "cell_type": "code",
      "source": [
        "print(b)"
      ],
      "metadata": {
        "colab": {
          "base_uri": "https://localhost:8080/"
        },
        "id": "pAz4BtVjaK4N",
        "outputId": "911dbbce-c600-4f8b-acd8-0a3c87d8274d"
      },
      "execution_count": null,
      "outputs": [
        {
          "output_type": "stream",
          "name": "stdout",
          "text": [
            "[0.]\n"
          ]
        }
      ]
    },
    {
      "cell_type": "markdown",
      "source": [
        "## compiling model"
      ],
      "metadata": {
        "id": "z8xUzcnC4ihw"
      }
    },
    {
      "cell_type": "code",
      "source": [
        "# opt = keras.optimizers.Adam(learning_rate=0.01)\n",
        "\n",
        "model.compile(optimizer='adam',\n",
        "              loss='binary_crossentropy',\n",
        "              metrics=['accuracy'])"
      ],
      "metadata": {
        "id": "5S8ZoEMK2Khn"
      },
      "execution_count": null,
      "outputs": []
    },
    {
      "cell_type": "markdown",
      "source": [
        "###training the model"
      ],
      "metadata": {
        "id": "dHGpWasm4n2y"
      }
    },
    {
      "cell_type": "code",
      "source": [
        "history = model.fit(X_train, y_train, epochs=100, validation_data=(X_test,y_test))"
      ],
      "metadata": {
        "colab": {
          "base_uri": "https://localhost:8080/"
        },
        "id": "9Hq_HOcE4q7H",
        "outputId": "2ac38e61-a9e4-4b98-b22b-5c8e8a452223"
      },
      "execution_count": null,
      "outputs": [
        {
          "output_type": "stream",
          "name": "stdout",
          "text": [
            "Epoch 1/100\n",
            "84/84 [==============================] - 1s 5ms/step - loss: 0.5251 - accuracy: 0.8488 - val_loss: 0.4094 - val_accuracy: 0.8621\n",
            "Epoch 2/100\n",
            "84/84 [==============================] - 0s 3ms/step - loss: 0.4143 - accuracy: 0.8533 - val_loss: 0.3840 - val_accuracy: 0.8621\n",
            "Epoch 3/100\n",
            "84/84 [==============================] - 0s 3ms/step - loss: 0.3968 - accuracy: 0.8533 - val_loss: 0.3618 - val_accuracy: 0.8621\n",
            "Epoch 4/100\n",
            "84/84 [==============================] - 0s 2ms/step - loss: 0.3827 - accuracy: 0.8533 - val_loss: 0.3495 - val_accuracy: 0.8621\n",
            "Epoch 5/100\n",
            "84/84 [==============================] - 0s 3ms/step - loss: 0.3746 - accuracy: 0.8533 - val_loss: 0.3422 - val_accuracy: 0.8621\n",
            "Epoch 6/100\n",
            "84/84 [==============================] - 0s 3ms/step - loss: 0.3694 - accuracy: 0.8530 - val_loss: 0.3337 - val_accuracy: 0.8651\n",
            "Epoch 7/100\n",
            "84/84 [==============================] - 0s 3ms/step - loss: 0.3639 - accuracy: 0.8541 - val_loss: 0.3309 - val_accuracy: 0.8636\n",
            "Epoch 8/100\n",
            "84/84 [==============================] - 0s 2ms/step - loss: 0.3615 - accuracy: 0.8511 - val_loss: 0.3249 - val_accuracy: 0.8696\n",
            "Epoch 9/100\n",
            "84/84 [==============================] - 0s 3ms/step - loss: 0.3574 - accuracy: 0.8515 - val_loss: 0.3198 - val_accuracy: 0.8711\n",
            "Epoch 10/100\n",
            "84/84 [==============================] - 0s 3ms/step - loss: 0.3542 - accuracy: 0.8530 - val_loss: 0.3157 - val_accuracy: 0.8651\n",
            "Epoch 11/100\n",
            "84/84 [==============================] - 0s 3ms/step - loss: 0.3523 - accuracy: 0.8537 - val_loss: 0.3129 - val_accuracy: 0.8711\n",
            "Epoch 12/100\n",
            "84/84 [==============================] - 0s 3ms/step - loss: 0.3500 - accuracy: 0.8533 - val_loss: 0.3104 - val_accuracy: 0.8711\n",
            "Epoch 13/100\n",
            "84/84 [==============================] - 0s 3ms/step - loss: 0.3474 - accuracy: 0.8537 - val_loss: 0.3083 - val_accuracy: 0.8726\n",
            "Epoch 14/100\n",
            "84/84 [==============================] - 0s 3ms/step - loss: 0.3457 - accuracy: 0.8518 - val_loss: 0.3057 - val_accuracy: 0.8711\n",
            "Epoch 15/100\n",
            "84/84 [==============================] - 0s 3ms/step - loss: 0.3449 - accuracy: 0.8507 - val_loss: 0.3048 - val_accuracy: 0.8726\n",
            "Epoch 16/100\n",
            "84/84 [==============================] - 0s 3ms/step - loss: 0.3431 - accuracy: 0.8530 - val_loss: 0.3035 - val_accuracy: 0.8726\n",
            "Epoch 17/100\n",
            "84/84 [==============================] - 0s 3ms/step - loss: 0.3436 - accuracy: 0.8522 - val_loss: 0.3022 - val_accuracy: 0.8696\n",
            "Epoch 18/100\n",
            "84/84 [==============================] - 0s 3ms/step - loss: 0.3397 - accuracy: 0.8563 - val_loss: 0.3019 - val_accuracy: 0.8651\n",
            "Epoch 19/100\n",
            "84/84 [==============================] - 0s 3ms/step - loss: 0.3399 - accuracy: 0.8552 - val_loss: 0.2997 - val_accuracy: 0.8726\n",
            "Epoch 20/100\n",
            "84/84 [==============================] - 0s 3ms/step - loss: 0.3396 - accuracy: 0.8526 - val_loss: 0.2988 - val_accuracy: 0.8711\n",
            "Epoch 21/100\n",
            "84/84 [==============================] - 0s 3ms/step - loss: 0.3399 - accuracy: 0.8545 - val_loss: 0.2996 - val_accuracy: 0.8711\n",
            "Epoch 22/100\n",
            "84/84 [==============================] - 0s 3ms/step - loss: 0.3382 - accuracy: 0.8548 - val_loss: 0.2975 - val_accuracy: 0.8696\n",
            "Epoch 23/100\n",
            "84/84 [==============================] - 0s 3ms/step - loss: 0.3377 - accuracy: 0.8545 - val_loss: 0.3004 - val_accuracy: 0.8741\n",
            "Epoch 24/100\n",
            "84/84 [==============================] - 0s 3ms/step - loss: 0.3362 - accuracy: 0.8533 - val_loss: 0.2969 - val_accuracy: 0.8696\n",
            "Epoch 25/100\n",
            "84/84 [==============================] - 0s 3ms/step - loss: 0.3359 - accuracy: 0.8537 - val_loss: 0.2976 - val_accuracy: 0.8711\n",
            "Epoch 26/100\n",
            "84/84 [==============================] - 0s 3ms/step - loss: 0.3349 - accuracy: 0.8526 - val_loss: 0.2957 - val_accuracy: 0.8726\n",
            "Epoch 27/100\n",
            "84/84 [==============================] - 0s 3ms/step - loss: 0.3347 - accuracy: 0.8537 - val_loss: 0.2961 - val_accuracy: 0.8711\n",
            "Epoch 28/100\n",
            "84/84 [==============================] - 0s 3ms/step - loss: 0.3344 - accuracy: 0.8563 - val_loss: 0.2958 - val_accuracy: 0.8711\n",
            "Epoch 29/100\n",
            "84/84 [==============================] - 0s 3ms/step - loss: 0.3334 - accuracy: 0.8552 - val_loss: 0.2976 - val_accuracy: 0.8726\n",
            "Epoch 30/100\n",
            "84/84 [==============================] - 0s 3ms/step - loss: 0.3336 - accuracy: 0.8545 - val_loss: 0.2941 - val_accuracy: 0.8726\n",
            "Epoch 31/100\n",
            "84/84 [==============================] - 0s 3ms/step - loss: 0.3335 - accuracy: 0.8560 - val_loss: 0.2965 - val_accuracy: 0.8726\n",
            "Epoch 32/100\n",
            "84/84 [==============================] - 0s 3ms/step - loss: 0.3330 - accuracy: 0.8537 - val_loss: 0.2943 - val_accuracy: 0.8666\n",
            "Epoch 33/100\n",
            "84/84 [==============================] - 0s 3ms/step - loss: 0.3326 - accuracy: 0.8541 - val_loss: 0.2981 - val_accuracy: 0.8711\n",
            "Epoch 34/100\n",
            "84/84 [==============================] - 0s 3ms/step - loss: 0.3328 - accuracy: 0.8552 - val_loss: 0.2937 - val_accuracy: 0.8681\n",
            "Epoch 35/100\n",
            "84/84 [==============================] - 0s 3ms/step - loss: 0.3321 - accuracy: 0.8552 - val_loss: 0.2963 - val_accuracy: 0.8696\n",
            "Epoch 36/100\n",
            "84/84 [==============================] - 0s 3ms/step - loss: 0.3321 - accuracy: 0.8571 - val_loss: 0.2933 - val_accuracy: 0.8711\n",
            "Epoch 37/100\n",
            "84/84 [==============================] - 0s 3ms/step - loss: 0.3311 - accuracy: 0.8530 - val_loss: 0.2957 - val_accuracy: 0.8696\n",
            "Epoch 38/100\n",
            "84/84 [==============================] - 0s 3ms/step - loss: 0.3320 - accuracy: 0.8582 - val_loss: 0.2981 - val_accuracy: 0.8696\n",
            "Epoch 39/100\n",
            "84/84 [==============================] - 0s 3ms/step - loss: 0.3308 - accuracy: 0.8556 - val_loss: 0.2922 - val_accuracy: 0.8696\n",
            "Epoch 40/100\n",
            "84/84 [==============================] - 0s 3ms/step - loss: 0.3300 - accuracy: 0.8563 - val_loss: 0.2944 - val_accuracy: 0.8666\n",
            "Epoch 41/100\n",
            "84/84 [==============================] - 0s 3ms/step - loss: 0.3297 - accuracy: 0.8571 - val_loss: 0.2931 - val_accuracy: 0.8681\n",
            "Epoch 42/100\n",
            "84/84 [==============================] - 0s 4ms/step - loss: 0.3293 - accuracy: 0.8556 - val_loss: 0.2949 - val_accuracy: 0.8696\n",
            "Epoch 43/100\n",
            "84/84 [==============================] - 0s 3ms/step - loss: 0.3296 - accuracy: 0.8575 - val_loss: 0.2920 - val_accuracy: 0.8696\n",
            "Epoch 44/100\n",
            "84/84 [==============================] - 0s 3ms/step - loss: 0.3287 - accuracy: 0.8593 - val_loss: 0.2931 - val_accuracy: 0.8696\n",
            "Epoch 45/100\n",
            "84/84 [==============================] - 0s 3ms/step - loss: 0.3291 - accuracy: 0.8560 - val_loss: 0.2939 - val_accuracy: 0.8711\n",
            "Epoch 46/100\n",
            "84/84 [==============================] - 0s 3ms/step - loss: 0.3283 - accuracy: 0.8556 - val_loss: 0.2921 - val_accuracy: 0.8681\n",
            "Epoch 47/100\n",
            "84/84 [==============================] - 0s 3ms/step - loss: 0.3279 - accuracy: 0.8578 - val_loss: 0.2988 - val_accuracy: 0.8726\n",
            "Epoch 48/100\n",
            "84/84 [==============================] - 0s 3ms/step - loss: 0.3277 - accuracy: 0.8563 - val_loss: 0.2911 - val_accuracy: 0.8696\n",
            "Epoch 49/100\n",
            "84/84 [==============================] - 0s 3ms/step - loss: 0.3273 - accuracy: 0.8578 - val_loss: 0.2939 - val_accuracy: 0.8681\n",
            "Epoch 50/100\n",
            "84/84 [==============================] - 0s 3ms/step - loss: 0.3275 - accuracy: 0.8601 - val_loss: 0.2913 - val_accuracy: 0.8681\n",
            "Epoch 51/100\n",
            "84/84 [==============================] - 0s 3ms/step - loss: 0.3270 - accuracy: 0.8586 - val_loss: 0.2912 - val_accuracy: 0.8666\n",
            "Epoch 52/100\n",
            "84/84 [==============================] - 0s 3ms/step - loss: 0.3283 - accuracy: 0.8552 - val_loss: 0.2940 - val_accuracy: 0.8726\n",
            "Epoch 53/100\n",
            "84/84 [==============================] - 0s 3ms/step - loss: 0.3267 - accuracy: 0.8586 - val_loss: 0.2927 - val_accuracy: 0.8726\n",
            "Epoch 54/100\n",
            "84/84 [==============================] - 0s 3ms/step - loss: 0.3257 - accuracy: 0.8597 - val_loss: 0.2914 - val_accuracy: 0.8726\n",
            "Epoch 55/100\n",
            "84/84 [==============================] - 0s 3ms/step - loss: 0.3259 - accuracy: 0.8593 - val_loss: 0.2959 - val_accuracy: 0.8756\n",
            "Epoch 56/100\n",
            "84/84 [==============================] - 0s 3ms/step - loss: 0.3268 - accuracy: 0.8597 - val_loss: 0.2898 - val_accuracy: 0.8666\n",
            "Epoch 57/100\n",
            "84/84 [==============================] - 0s 3ms/step - loss: 0.3253 - accuracy: 0.8601 - val_loss: 0.2903 - val_accuracy: 0.8741\n",
            "Epoch 58/100\n",
            "84/84 [==============================] - 0s 3ms/step - loss: 0.3248 - accuracy: 0.8608 - val_loss: 0.2925 - val_accuracy: 0.8726\n",
            "Epoch 59/100\n",
            "84/84 [==============================] - 0s 3ms/step - loss: 0.3254 - accuracy: 0.8597 - val_loss: 0.2906 - val_accuracy: 0.8726\n",
            "Epoch 60/100\n",
            "84/84 [==============================] - 0s 3ms/step - loss: 0.3243 - accuracy: 0.8620 - val_loss: 0.2897 - val_accuracy: 0.8741\n",
            "Epoch 61/100\n",
            "84/84 [==============================] - 0s 3ms/step - loss: 0.3246 - accuracy: 0.8608 - val_loss: 0.2906 - val_accuracy: 0.8771\n",
            "Epoch 62/100\n",
            "84/84 [==============================] - 0s 2ms/step - loss: 0.3243 - accuracy: 0.8608 - val_loss: 0.2896 - val_accuracy: 0.8711\n",
            "Epoch 63/100\n",
            "84/84 [==============================] - 0s 3ms/step - loss: 0.3244 - accuracy: 0.8612 - val_loss: 0.2900 - val_accuracy: 0.8741\n",
            "Epoch 64/100\n",
            "84/84 [==============================] - 0s 3ms/step - loss: 0.3240 - accuracy: 0.8627 - val_loss: 0.2901 - val_accuracy: 0.8741\n",
            "Epoch 65/100\n",
            "84/84 [==============================] - 0s 3ms/step - loss: 0.3248 - accuracy: 0.8597 - val_loss: 0.2888 - val_accuracy: 0.8771\n",
            "Epoch 66/100\n",
            "84/84 [==============================] - 0s 3ms/step - loss: 0.3235 - accuracy: 0.8608 - val_loss: 0.2883 - val_accuracy: 0.8756\n",
            "Epoch 67/100\n",
            "84/84 [==============================] - 0s 3ms/step - loss: 0.3225 - accuracy: 0.8612 - val_loss: 0.2915 - val_accuracy: 0.8771\n",
            "Epoch 68/100\n",
            "84/84 [==============================] - 0s 3ms/step - loss: 0.3234 - accuracy: 0.8612 - val_loss: 0.2885 - val_accuracy: 0.8801\n",
            "Epoch 69/100\n",
            "84/84 [==============================] - 0s 3ms/step - loss: 0.3223 - accuracy: 0.8627 - val_loss: 0.2890 - val_accuracy: 0.8681\n",
            "Epoch 70/100\n",
            "84/84 [==============================] - 0s 3ms/step - loss: 0.3242 - accuracy: 0.8631 - val_loss: 0.2886 - val_accuracy: 0.8771\n",
            "Epoch 71/100\n",
            "84/84 [==============================] - 0s 3ms/step - loss: 0.3220 - accuracy: 0.8650 - val_loss: 0.2873 - val_accuracy: 0.8711\n",
            "Epoch 72/100\n",
            "84/84 [==============================] - 0s 3ms/step - loss: 0.3217 - accuracy: 0.8657 - val_loss: 0.2871 - val_accuracy: 0.8771\n",
            "Epoch 73/100\n",
            "84/84 [==============================] - 0s 3ms/step - loss: 0.3217 - accuracy: 0.8638 - val_loss: 0.2874 - val_accuracy: 0.8771\n",
            "Epoch 74/100\n",
            "84/84 [==============================] - 0s 3ms/step - loss: 0.3212 - accuracy: 0.8627 - val_loss: 0.2866 - val_accuracy: 0.8801\n",
            "Epoch 75/100\n",
            "84/84 [==============================] - 0s 3ms/step - loss: 0.3217 - accuracy: 0.8642 - val_loss: 0.2873 - val_accuracy: 0.8786\n",
            "Epoch 76/100\n",
            "84/84 [==============================] - 0s 3ms/step - loss: 0.3206 - accuracy: 0.8661 - val_loss: 0.2882 - val_accuracy: 0.8786\n",
            "Epoch 77/100\n",
            "84/84 [==============================] - 0s 3ms/step - loss: 0.3209 - accuracy: 0.8627 - val_loss: 0.2856 - val_accuracy: 0.8801\n",
            "Epoch 78/100\n",
            "84/84 [==============================] - 0s 3ms/step - loss: 0.3201 - accuracy: 0.8650 - val_loss: 0.2853 - val_accuracy: 0.8816\n",
            "Epoch 79/100\n",
            "84/84 [==============================] - 0s 3ms/step - loss: 0.3194 - accuracy: 0.8650 - val_loss: 0.2857 - val_accuracy: 0.8801\n",
            "Epoch 80/100\n",
            "84/84 [==============================] - 0s 3ms/step - loss: 0.3191 - accuracy: 0.8672 - val_loss: 0.2875 - val_accuracy: 0.8801\n",
            "Epoch 81/100\n",
            "84/84 [==============================] - 0s 3ms/step - loss: 0.3185 - accuracy: 0.8653 - val_loss: 0.2877 - val_accuracy: 0.8741\n",
            "Epoch 82/100\n",
            "84/84 [==============================] - 0s 3ms/step - loss: 0.3185 - accuracy: 0.8638 - val_loss: 0.2844 - val_accuracy: 0.8816\n",
            "Epoch 83/100\n",
            "84/84 [==============================] - 0s 2ms/step - loss: 0.3177 - accuracy: 0.8653 - val_loss: 0.2830 - val_accuracy: 0.8801\n",
            "Epoch 84/100\n",
            "84/84 [==============================] - 0s 3ms/step - loss: 0.3166 - accuracy: 0.8668 - val_loss: 0.2823 - val_accuracy: 0.8801\n",
            "Epoch 85/100\n",
            "84/84 [==============================] - 0s 3ms/step - loss: 0.3161 - accuracy: 0.8672 - val_loss: 0.2820 - val_accuracy: 0.8816\n",
            "Epoch 86/100\n",
            "84/84 [==============================] - 0s 2ms/step - loss: 0.3156 - accuracy: 0.8687 - val_loss: 0.2808 - val_accuracy: 0.8831\n",
            "Epoch 87/100\n",
            "84/84 [==============================] - 0s 3ms/step - loss: 0.3148 - accuracy: 0.8695 - val_loss: 0.2792 - val_accuracy: 0.8906\n",
            "Epoch 88/100\n",
            "84/84 [==============================] - 0s 3ms/step - loss: 0.3127 - accuracy: 0.8687 - val_loss: 0.2827 - val_accuracy: 0.8906\n",
            "Epoch 89/100\n",
            "84/84 [==============================] - 0s 3ms/step - loss: 0.3119 - accuracy: 0.8721 - val_loss: 0.2772 - val_accuracy: 0.8876\n",
            "Epoch 90/100\n",
            "84/84 [==============================] - 0s 3ms/step - loss: 0.3115 - accuracy: 0.8717 - val_loss: 0.2768 - val_accuracy: 0.8936\n",
            "Epoch 91/100\n",
            "84/84 [==============================] - 0s 3ms/step - loss: 0.3095 - accuracy: 0.8706 - val_loss: 0.2767 - val_accuracy: 0.8951\n",
            "Epoch 92/100\n",
            "84/84 [==============================] - 0s 3ms/step - loss: 0.3084 - accuracy: 0.8740 - val_loss: 0.2731 - val_accuracy: 0.8936\n",
            "Epoch 93/100\n",
            "84/84 [==============================] - 0s 3ms/step - loss: 0.3071 - accuracy: 0.8732 - val_loss: 0.2747 - val_accuracy: 0.8966\n",
            "Epoch 94/100\n",
            "84/84 [==============================] - 0s 3ms/step - loss: 0.3062 - accuracy: 0.8747 - val_loss: 0.2724 - val_accuracy: 0.8966\n",
            "Epoch 95/100\n",
            "84/84 [==============================] - 0s 3ms/step - loss: 0.3043 - accuracy: 0.8762 - val_loss: 0.2698 - val_accuracy: 0.8876\n",
            "Epoch 96/100\n",
            "84/84 [==============================] - 0s 3ms/step - loss: 0.3034 - accuracy: 0.8732 - val_loss: 0.2701 - val_accuracy: 0.8951\n",
            "Epoch 97/100\n",
            "84/84 [==============================] - 0s 3ms/step - loss: 0.3037 - accuracy: 0.8785 - val_loss: 0.2669 - val_accuracy: 0.8891\n",
            "Epoch 98/100\n",
            "84/84 [==============================] - 0s 3ms/step - loss: 0.3010 - accuracy: 0.8781 - val_loss: 0.2645 - val_accuracy: 0.9010\n",
            "Epoch 99/100\n",
            "84/84 [==============================] - 0s 3ms/step - loss: 0.3001 - accuracy: 0.8788 - val_loss: 0.2630 - val_accuracy: 0.8891\n",
            "Epoch 100/100\n",
            "84/84 [==============================] - 0s 3ms/step - loss: 0.2984 - accuracy: 0.8837 - val_loss: 0.2631 - val_accuracy: 0.8966\n"
          ]
        }
      ]
    },
    {
      "cell_type": "markdown",
      "source": [
        "##visualizing learning curve"
      ],
      "metadata": {
        "id": "qf4xU3Nu52Ft"
      }
    },
    {
      "cell_type": "code",
      "source": [
        "df = pd.DataFrame(history.history)\n",
        "df.head()"
      ],
      "metadata": {
        "colab": {
          "base_uri": "https://localhost:8080/",
          "height": 206
        },
        "id": "zd61tjjj7ZHj",
        "outputId": "e2554326-eacc-479f-e2ae-df73cd71702b"
      },
      "execution_count": null,
      "outputs": [
        {
          "output_type": "execute_result",
          "data": {
            "text/plain": [
              "       loss  accuracy  val_loss  val_accuracy\n",
              "0  0.525135  0.848837  0.409380      0.862069\n",
              "1  0.414315  0.853338  0.383977      0.862069\n",
              "2  0.396807  0.853338  0.361824      0.862069\n",
              "3  0.382723  0.853338  0.349516      0.862069\n",
              "4  0.374584  0.853338  0.342215      0.862069"
            ],
            "text/html": [
              "\n",
              "  <div id=\"df-9949006b-4821-45cd-bf13-0bc159fe0993\">\n",
              "    <div class=\"colab-df-container\">\n",
              "      <div>\n",
              "<style scoped>\n",
              "    .dataframe tbody tr th:only-of-type {\n",
              "        vertical-align: middle;\n",
              "    }\n",
              "\n",
              "    .dataframe tbody tr th {\n",
              "        vertical-align: top;\n",
              "    }\n",
              "\n",
              "    .dataframe thead th {\n",
              "        text-align: right;\n",
              "    }\n",
              "</style>\n",
              "<table border=\"1\" class=\"dataframe\">\n",
              "  <thead>\n",
              "    <tr style=\"text-align: right;\">\n",
              "      <th></th>\n",
              "      <th>loss</th>\n",
              "      <th>accuracy</th>\n",
              "      <th>val_loss</th>\n",
              "      <th>val_accuracy</th>\n",
              "    </tr>\n",
              "  </thead>\n",
              "  <tbody>\n",
              "    <tr>\n",
              "      <th>0</th>\n",
              "      <td>0.525135</td>\n",
              "      <td>0.848837</td>\n",
              "      <td>0.409380</td>\n",
              "      <td>0.862069</td>\n",
              "    </tr>\n",
              "    <tr>\n",
              "      <th>1</th>\n",
              "      <td>0.414315</td>\n",
              "      <td>0.853338</td>\n",
              "      <td>0.383977</td>\n",
              "      <td>0.862069</td>\n",
              "    </tr>\n",
              "    <tr>\n",
              "      <th>2</th>\n",
              "      <td>0.396807</td>\n",
              "      <td>0.853338</td>\n",
              "      <td>0.361824</td>\n",
              "      <td>0.862069</td>\n",
              "    </tr>\n",
              "    <tr>\n",
              "      <th>3</th>\n",
              "      <td>0.382723</td>\n",
              "      <td>0.853338</td>\n",
              "      <td>0.349516</td>\n",
              "      <td>0.862069</td>\n",
              "    </tr>\n",
              "    <tr>\n",
              "      <th>4</th>\n",
              "      <td>0.374584</td>\n",
              "      <td>0.853338</td>\n",
              "      <td>0.342215</td>\n",
              "      <td>0.862069</td>\n",
              "    </tr>\n",
              "  </tbody>\n",
              "</table>\n",
              "</div>\n",
              "      <button class=\"colab-df-convert\" onclick=\"convertToInteractive('df-9949006b-4821-45cd-bf13-0bc159fe0993')\"\n",
              "              title=\"Convert this dataframe to an interactive table.\"\n",
              "              style=\"display:none;\">\n",
              "        \n",
              "  <svg xmlns=\"http://www.w3.org/2000/svg\" height=\"24px\"viewBox=\"0 0 24 24\"\n",
              "       width=\"24px\">\n",
              "    <path d=\"M0 0h24v24H0V0z\" fill=\"none\"/>\n",
              "    <path d=\"M18.56 5.44l.94 2.06.94-2.06 2.06-.94-2.06-.94-.94-2.06-.94 2.06-2.06.94zm-11 1L8.5 8.5l.94-2.06 2.06-.94-2.06-.94L8.5 2.5l-.94 2.06-2.06.94zm10 10l.94 2.06.94-2.06 2.06-.94-2.06-.94-.94-2.06-.94 2.06-2.06.94z\"/><path d=\"M17.41 7.96l-1.37-1.37c-.4-.4-.92-.59-1.43-.59-.52 0-1.04.2-1.43.59L10.3 9.45l-7.72 7.72c-.78.78-.78 2.05 0 2.83L4 21.41c.39.39.9.59 1.41.59.51 0 1.02-.2 1.41-.59l7.78-7.78 2.81-2.81c.8-.78.8-2.07 0-2.86zM5.41 20L4 18.59l7.72-7.72 1.47 1.35L5.41 20z\"/>\n",
              "  </svg>\n",
              "      </button>\n",
              "      \n",
              "  <style>\n",
              "    .colab-df-container {\n",
              "      display:flex;\n",
              "      flex-wrap:wrap;\n",
              "      gap: 12px;\n",
              "    }\n",
              "\n",
              "    .colab-df-convert {\n",
              "      background-color: #E8F0FE;\n",
              "      border: none;\n",
              "      border-radius: 50%;\n",
              "      cursor: pointer;\n",
              "      display: none;\n",
              "      fill: #1967D2;\n",
              "      height: 32px;\n",
              "      padding: 0 0 0 0;\n",
              "      width: 32px;\n",
              "    }\n",
              "\n",
              "    .colab-df-convert:hover {\n",
              "      background-color: #E2EBFA;\n",
              "      box-shadow: 0px 1px 2px rgba(60, 64, 67, 0.3), 0px 1px 3px 1px rgba(60, 64, 67, 0.15);\n",
              "      fill: #174EA6;\n",
              "    }\n",
              "\n",
              "    [theme=dark] .colab-df-convert {\n",
              "      background-color: #3B4455;\n",
              "      fill: #D2E3FC;\n",
              "    }\n",
              "\n",
              "    [theme=dark] .colab-df-convert:hover {\n",
              "      background-color: #434B5C;\n",
              "      box-shadow: 0px 1px 3px 1px rgba(0, 0, 0, 0.15);\n",
              "      filter: drop-shadow(0px 1px 2px rgba(0, 0, 0, 0.3));\n",
              "      fill: #FFFFFF;\n",
              "    }\n",
              "  </style>\n",
              "\n",
              "      <script>\n",
              "        const buttonEl =\n",
              "          document.querySelector('#df-9949006b-4821-45cd-bf13-0bc159fe0993 button.colab-df-convert');\n",
              "        buttonEl.style.display =\n",
              "          google.colab.kernel.accessAllowed ? 'block' : 'none';\n",
              "\n",
              "        async function convertToInteractive(key) {\n",
              "          const element = document.querySelector('#df-9949006b-4821-45cd-bf13-0bc159fe0993');\n",
              "          const dataTable =\n",
              "            await google.colab.kernel.invokeFunction('convertToInteractive',\n",
              "                                                     [key], {});\n",
              "          if (!dataTable) return;\n",
              "\n",
              "          const docLinkHtml = 'Like what you see? Visit the ' +\n",
              "            '<a target=\"_blank\" href=https://colab.research.google.com/notebooks/data_table.ipynb>data table notebook</a>'\n",
              "            + ' to learn more about interactive tables.';\n",
              "          element.innerHTML = '';\n",
              "          dataTable['output_type'] = 'display_data';\n",
              "          await google.colab.output.renderOutput(dataTable, element);\n",
              "          const docLink = document.createElement('div');\n",
              "          docLink.innerHTML = docLinkHtml;\n",
              "          element.appendChild(docLink);\n",
              "        }\n",
              "      </script>\n",
              "    </div>\n",
              "  </div>\n",
              "  "
            ]
          },
          "metadata": {},
          "execution_count": 91
        }
      ]
    },
    {
      "cell_type": "code",
      "source": [
        "df[['accuracy','val_accuracy']].plot(figsize=(8, 5))\n",
        "plt.grid(True)\n",
        "plt.gca().set_ylim(0, 1) # set the vertical range to [0-1\n",
        "plt.title('Training Accuracy vs Validation Accuracy')\n",
        "plt.show()"
      ],
      "metadata": {
        "colab": {
          "base_uri": "https://localhost:8080/",
          "height": 336
        },
        "id": "5VmBdMrO56wZ",
        "outputId": "a731f5c1-1574-4069-84fa-2d5b2b867f93"
      },
      "execution_count": null,
      "outputs": [
        {
          "output_type": "display_data",
          "data": {
            "text/plain": [
              "<Figure size 576x360 with 1 Axes>"
            ],
            "image/png": "[encoded data removed]"
          },
          "metadata": {
            "needs_background": "light"
          }
        }
      ]
    },
    {
      "cell_type": "code",
      "source": [
        "df[['loss','val_loss']].plot(figsize=(8, 5))\n",
        "plt.grid(True)\n",
        "plt.gca().set_ylim(0, 1) # set the vertical range to [0-1]\n",
        "plt.title('Training Loss vs Validation Loss')\n",
        "plt.show()"
      ],
      "metadata": {
        "colab": {
          "base_uri": "https://localhost:8080/",
          "height": 336
        },
        "id": "GQOhGPLa9BpX",
        "outputId": "09d793c0-df15-441f-d5ad-ba47a30b08fe"
      },
      "execution_count": null,
      "outputs": [
        {
          "output_type": "display_data",
          "data": {
            "text/plain": [
              "<Figure size 576x360 with 1 Axes>"
            ],
            "image/png": "[encoded data removed]"
          },
          "metadata": {
            "needs_background": "light"
          }
        }
      ]
    },
    {
      "cell_type": "markdown",
      "source": [
        "##evaluasi model"
      ],
      "metadata": {
        "id": "IFPGz_g8ZQRP"
      }
    },
    {
      "cell_type": "code",
      "execution_count": null,
      "metadata": {
        "id": "ObThRX1JDtZg",
        "colab": {
          "base_uri": "https://localhost:8080/"
        },
        "outputId": "6ed90162-cbf5-4f10-8e4e-63db1f0a9967"
      },
      "outputs": [
        {
          "output_type": "stream",
          "name": "stdout",
          "text": [
            "21/21 [==============================] - 0s 2ms/step - loss: 0.2631 - accuracy: 0.8966\n"
          ]
        },
        {
          "output_type": "execute_result",
          "data": {
            "text/plain": [
              "[0.2631089985370636, 0.8965517282485962]"
            ]
          },
          "metadata": {},
          "execution_count": 94
        }
      ],
      "source": [
        "model.evaluate(X_test, y_test)"
      ]
    },
    {
      "cell_type": "code",
      "execution_count": null,
      "metadata": {
        "id": "zfeibiYhDtZh",
        "colab": {
          "base_uri": "https://localhost:8080/"
        },
        "outputId": "dfb288ad-75ae-45cf-e58e-00762cb06d45"
      },
      "outputs": [
        {
          "output_type": "stream",
          "name": "stdout",
          "text": [
            "21/21 [==============================] - 0s 1ms/step\n"
          ]
        },
        {
          "output_type": "execute_result",
          "data": {
            "text/plain": [
              "array([[0.05046525],\n",
              "       [0.05960138],\n",
              "       [0.02064748],\n",
              "       [0.03448398],\n",
              "       [0.03097317]], dtype=float32)"
            ]
          },
          "metadata": {},
          "execution_count": 95
        }
      ],
      "source": [
        "yp = model.predict(X_test)\n",
        "yp[:5]"
      ]
    },
    {
      "cell_type": "code",
      "execution_count": null,
      "metadata": {
        "id": "6_R7R53eDtZj"
      },
      "outputs": [],
      "source": [
        "y_pred = []\n",
        "for element in yp:\n",
        "    if element > 0.5:\n",
        "        y_pred.append(1)\n",
        "    else:\n",
        "        y_pred.append(0)"
      ]
    },
    {
      "cell_type": "code",
      "execution_count": null,
      "metadata": {
        "id": "yNNVsZDqDtZk",
        "colab": {
          "base_uri": "https://localhost:8080/"
        },
        "outputId": "8ec1545f-1d13-4d97-a011-26c9646aae6c"
      },
      "outputs": [
        {
          "output_type": "execute_result",
          "data": {
            "text/plain": [
              "[0, 0, 0, 0, 0, 0, 1, 1, 0, 0]"
            ]
          },
          "metadata": {},
          "execution_count": 97
        }
      ],
      "source": [
        "y_pred[:10]"
      ]
    },
    {
      "cell_type": "code",
      "execution_count": null,
      "metadata": {
        "id": "VtBgmkGjDtZk",
        "colab": {
          "base_uri": "https://localhost:8080/"
        },
        "outputId": "24974be9-4ff9-428c-d253-fdd9581cbf39"
      },
      "outputs": [
        {
          "output_type": "execute_result",
          "data": {
            "text/plain": [
              "1879    0\n",
              "1518    0\n",
              "1813    0\n",
              "890     0\n",
              "1343    0\n",
              "3072    1\n",
              "546     1\n",
              "2401    1\n",
              "1827    0\n",
              "758     0\n",
              "Name: Churn, dtype: int64"
            ]
          },
          "metadata": {},
          "execution_count": 98
        }
      ],
      "source": [
        "y_test[:10]"
      ]
    },
    {
      "cell_type": "code",
      "execution_count": null,
      "metadata": {
        "id": "9sWxrnd4DtZl",
        "colab": {
          "base_uri": "https://localhost:8080/"
        },
        "outputId": "76276e81-461e-4b6a-8dd5-8497e9041070"
      },
      "outputs": [
        {
          "output_type": "stream",
          "name": "stdout",
          "text": [
            "              precision    recall  f1-score   support\n",
            "\n",
            "           0       0.90      0.98      0.94       575\n",
            "           1       0.78      0.35      0.48        92\n",
            "\n",
            "    accuracy                           0.90       667\n",
            "   macro avg       0.84      0.67      0.71       667\n",
            "weighted avg       0.89      0.90      0.88       667\n",
            "\n"
          ]
        }
      ],
      "source": [
        "from sklearn.metrics import confusion_matrix , classification_report\n",
        "\n",
        "print(classification_report(y_test,y_pred))"
      ]
    },
    {
      "cell_type": "code",
      "execution_count": null,
      "metadata": {
        "id": "fBSmzMC-DtZl",
        "colab": {
          "base_uri": "https://localhost:8080/",
          "height": 459
        },
        "outputId": "f14c0bf3-e221-483b-b2f7-ba6d455050fd"
      },
      "outputs": [
        {
          "output_type": "execute_result",
          "data": {
            "text/plain": [
              "Text(69.0, 0.5, 'Truth')"
            ]
          },
          "metadata": {},
          "execution_count": 100
        },
        {
          "output_type": "display_data",
          "data": {
            "text/plain": [
              "<Figure size 720x504 with 2 Axes>"
            ],
            "image/png": "[encoded data removed]"
          },
          "metadata": {
            "needs_background": "light"
          }
        }
      ],
      "source": [
        "import seaborn as sn\n",
        "cm = tf.math.confusion_matrix(labels=y_test,predictions=y_pred)\n",
        "\n",
        "plt.figure(figsize = (10,7))\n",
        "sn.heatmap(cm, annot=True, fmt='d')\n",
        "plt.xlabel('Predicted')\n",
        "plt.ylabel('Truth')"
      ]
    },
    {
      "cell_type": "code",
      "execution_count": null,
      "metadata": {
        "id": "5AdTBfgMDtZm",
        "colab": {
          "base_uri": "https://localhost:8080/"
        },
        "outputId": "f16904af-b0b2-4bbd-edfa-e7924455d140"
      },
      "outputs": [
        {
          "output_type": "execute_result",
          "data": {
            "text/plain": [
              "(667,)"
            ]
          },
          "metadata": {},
          "execution_count": 101
        }
      ],
      "source": [
        "y_test.shape"
      ]
    },
    {
      "cell_type": "markdown",
      "metadata": {
        "id": "y4YUR_1bDtZn"
      },
      "source": [
        "# Accuracy"
      ]
    },
    {
      "cell_type": "code",
      "execution_count": null,
      "metadata": {
        "id": "WCsV19O2DtZn",
        "colab": {
          "base_uri": "https://localhost:8080/"
        },
        "outputId": "8b919688-a002-40ef-daa9-0c74169cb9c7"
      },
      "outputs": [
        {
          "output_type": "execute_result",
          "data": {
            "text/plain": [
              "0.9"
            ]
          },
          "metadata": {},
          "execution_count": 1
        }
      ],
      "source": [
        "round((566+32)/(566+32+9+60),2)"
      ]
    },
    {
      "cell_type": "markdown",
      "source": [
        "setalah di hitung manual akurannya sama dengan yang di evaluasi"
      ],
      "metadata": {
        "id": "Br-nW-nAxiQF"
      }
    },
    {
      "cell_type": "markdown",
      "metadata": {
        "id": "JO3XFtzCDtZo"
      },
      "source": [
        "# Precision for 0 class. i.e. Precision for customers who did not churn"
      ]
    },
    {
      "cell_type": "code",
      "execution_count": null,
      "metadata": {
        "id": "3JNYcRA5DtZo",
        "colab": {
          "base_uri": "https://localhost:8080/"
        },
        "outputId": "b8482079-6fa9-4be9-bb21-e83abada95a2"
      },
      "outputs": [
        {
          "output_type": "execute_result",
          "data": {
            "text/plain": [
              "0.9"
            ]
          },
          "metadata": {},
          "execution_count": 2
        }
      ],
      "source": [
        "round(566/(566+61),2)"
      ]
    },
    {
      "cell_type": "markdown",
      "source": [
        "sama dengan report"
      ],
      "metadata": {
        "id": "w9LTDGpay7x4"
      }
    },
    {
      "cell_type": "markdown",
      "metadata": {
        "id": "fMbMpZ8nDtZq"
      },
      "source": [
        "# Precision for 1 class. i.e. Precision for customers who actually churned"
      ]
    },
    {
      "cell_type": "code",
      "execution_count": null,
      "metadata": {
        "id": "fKdkGku4DtZr",
        "colab": {
          "base_uri": "https://localhost:8080/"
        },
        "outputId": "f36b22f4-877a-404f-be01-2697d8d30c10"
      },
      "outputs": [
        {
          "output_type": "execute_result",
          "data": {
            "text/plain": [
              "0.35"
            ]
          },
          "metadata": {},
          "execution_count": 3
        }
      ],
      "source": [
        "round(32/(32+60),2)"
      ]
    },
    {
      "cell_type": "markdown",
      "source": [
        "juga sama dengan report"
      ],
      "metadata": {
        "id": "sVLiAIxTy_6Q"
      }
    },
    {
      "cell_type": "markdown",
      "metadata": {
        "id": "jB3ZQQDQDtZs"
      },
      "source": [
        "# Recall for 0 class"
      ]
    },
    {
      "cell_type": "code",
      "execution_count": null,
      "metadata": {
        "id": "DjBChh6pDtZt",
        "colab": {
          "base_uri": "https://localhost:8080/"
        },
        "outputId": "32acd4a2-bea4-476a-b04d-0b2a8eeb173a"
      },
      "outputs": [
        {
          "output_type": "execute_result",
          "data": {
            "text/plain": [
              "0.98"
            ]
          },
          "metadata": {},
          "execution_count": 4
        }
      ],
      "source": [
        "round(566/(566+9),2)"
      ]
    },
    {
      "cell_type": "markdown",
      "source": [
        "##recal for 1 class"
      ],
      "metadata": {
        "id": "XPRrwOWTzkwH"
      }
    },
    {
      "cell_type": "code",
      "execution_count": null,
      "metadata": {
        "id": "nrGg3mVADtZu",
        "colab": {
          "base_uri": "https://localhost:8080/"
        },
        "outputId": "4636d853-0be7-44f7-f0a1-5bb3e7228e77"
      },
      "outputs": [
        {
          "output_type": "execute_result",
          "data": {
            "text/plain": [
              "0.35"
            ]
          },
          "metadata": {},
          "execution_count": 5
        }
      ],
      "source": [
        "round(32/(32+60),2)"
      ]
    }
  ],
  "metadata": {
    "kernelspec": {
      "display_name": "Python 3.10.0 64-bit",
      "language": "python",
      "name": "python3"
    },
    "language_info": {
      "codemirror_mode": {
        "name": "ipython",
        "version": 3
      },
      "file_extension": ".py",
      "mimetype": "text/x-python",
      "name": "python",
      "nbconvert_exporter": "python",
      "pygments_lexer": "ipython3",
      "version": "3.10.0"
    },
    "orig_nbformat": 4,
    "vscode": {
      "interpreter": {
        "hash": "27f6fea6f47ae512550f0b8facdbd035a93e1dd89633f7bf2dd00a2502c71d0d"
      }
    },
    "colab": {
      "provenance": []
    }
  },
  "nbformat": 4,
  "nbformat_minor": 0
}